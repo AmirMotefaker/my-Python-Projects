{
 "cells": [
  {
   "cell_type": "markdown",
   "id": "3d51b5c2",
   "metadata": {},
   "source": [
    "Download Video from namasha.com"
   ]
  },
  {
   "cell_type": "code",
   "execution_count": 1,
   "id": "72043d5d",
   "metadata": {},
   "outputs": [],
   "source": [
    "import requests\n",
    "from bs4 import BeautifulSoup\n",
    "import re"
   ]
  },
  {
   "cell_type": "code",
   "execution_count": 2,
   "id": "0bf1787a",
   "metadata": {},
   "outputs": [],
   "source": [
    "qualities = {\n",
    "    '144': 0,\n",
    "    '240': 1,\n",
    "    '360': 2,\n",
    "    '480': 3,\n",
    "    '720': 4,\n",
    "    '1080': 5\n",
    "}"
   ]
  },
  {
   "cell_type": "code",
   "execution_count": 3,
   "id": "a6eebff4",
   "metadata": {},
   "outputs": [],
   "source": [
    "class VideoDownloadException(Exception):\n",
    "    pass\n",
    "\n",
    "\n",
    "class QualityError(VideoDownloadException):\n",
    "    pass"
   ]
  },
  {
   "cell_type": "code",
   "execution_count": 4,
   "id": "c4ecaa0e",
   "metadata": {},
   "outputs": [],
   "source": [
    "class Scraper:\n",
    "    def __init__(self, url, quality):\n",
    "        self.url = url\n",
    "        self.quality = quality\n",
    "\n",
    "    def get_all_links(self):\n",
    "        result = requests.get(self.url)\n",
    "        content = BeautifulSoup(result.text, 'html.parser')\n",
    "        video_links = content.find_all('a', href=re.compile('.mp4'))\n",
    "        links = [link['href'] for link in video_links]\n",
    "        links.reverse()\n",
    "        return links\n",
    "\n",
    "    def get_link(self):\n",
    "        links = self.get_all_links()\n",
    "        available_qualities = self.get_qualities()\n",
    "        if self.quality not in available_qualities:\n",
    "            raise QualityError(\n",
    "                f'This quality in not available \\n available qualities are {available_qualities}')\n",
    "        else:\n",
    "            link = links[qualities[self.quality]]\n",
    "            return link\n",
    "\n",
    "    def get_qualities(self):\n",
    "        links = self.get_all_links()\n",
    "        qua = list(qualities.keys())\n",
    "        available_qualities = []\n",
    "        for i in range(len(links)):\n",
    "            available_qualities.append(qua[i])\n",
    "        return available_qualities"
   ]
  },
  {
   "cell_type": "code",
   "execution_count": 5,
   "id": "44977ac6",
   "metadata": {},
   "outputs": [
    {
     "name": "stdout",
     "output_type": "stream",
     "text": [
      "Downloading...\n",
      "[==================================================]\n",
      "Video downloaded\n"
     ]
    }
   ],
   "source": [
    "class Main:\n",
    "    def __init__(self, url, quality):\n",
    "        self.url = url\n",
    "        self.quality = quality\n",
    "        self.scraper = Scraper(self.url, self.quality)\n",
    "\n",
    "    def download(self):\n",
    "        video_url = self.scraper.get_link()\n",
    "        with open('video.mp4', 'wb') as f:\n",
    "            print('Downloading...')\n",
    "            result = requests.get(video_url, stream=True)\n",
    "            total = result.headers.get('content-length')\n",
    "            if total is None:\n",
    "                f.write(result.content)\n",
    "            else:\n",
    "                download = 0\n",
    "                total = int(total)\n",
    "                for data in result.iter_content(chunk_size=4096):\n",
    "                    f.write(data)\n",
    "                    download += len(data)\n",
    "                    done = int(50 * download / total)\n",
    "                    print('\\r[{}{}]'.format('='*done, ' ' * (50-done)), end='')\n",
    "        print('\\nVideo downloaded')\n",
    "\n",
    "\n",
    "a = Main(url='https://www.namasha.com/v/Ozrw1mCa', quality='144')\n",
    "a.download()"
   ]
  }
 ],
 "metadata": {
  "kernelspec": {
   "display_name": "Python 3 (ipykernel)",
   "language": "python",
   "name": "python3"
  },
  "language_info": {
   "codemirror_mode": {
    "name": "ipython",
    "version": 3
   },
   "file_extension": ".py",
   "mimetype": "text/x-python",
   "name": "python",
   "nbconvert_exporter": "python",
   "pygments_lexer": "ipython3",
   "version": "3.9.12"
  }
 },
 "nbformat": 4,
 "nbformat_minor": 5
}
