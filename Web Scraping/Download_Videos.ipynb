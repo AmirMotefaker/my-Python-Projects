{
 "cells": [
  {
   "cell_type": "markdown",
   "id": "84f64807",
   "metadata": {},
   "source": [
    "Download Video from namasha.com"
   ]
  },
  {
   "cell_type": "code",
   "execution_count": 1,
   "id": "83953d36",
   "metadata": {},
   "outputs": [],
   "source": [
    "import requests\n",
    "from bs4 import BeautifulSoup\n",
    "import re"
   ]
  },
  {
   "cell_type": "code",
   "execution_count": 2,
   "id": "85e8ea2a",
   "metadata": {},
   "outputs": [],
   "source": [
    "qualities = {\n",
    "    '144': 0,\n",
    "    '240': 1,\n",
    "    '360': 2,\n",
    "    '480': 3,\n",
    "    '720': 4,\n",
    "    '1080': 5\n",
    "}"
   ]
  },
  {
   "cell_type": "code",
   "execution_count": 3,
   "id": "b1f1b7bd",
   "metadata": {},
   "outputs": [],
   "source": [
    "class VideoDownloadException(Exception):\n",
    "    pass\n",
    "\n",
    "\n",
    "class QualityError(VideoDownloadException):\n",
    "    pass"
   ]
  },
  {
   "cell_type": "code",
   "execution_count": 4,
   "id": "17686046",
   "metadata": {},
   "outputs": [],
   "source": [
    "class Scraper:\n",
    "    def __init__(self, url, quality):\n",
    "        self.url = url\n",
    "        self.quality = quality\n",
    "\n",
    "    def get_all_links(self):\n",
    "        result = requests.get(self.url)\n",
    "        content = BeautifulSoup(result.text, 'html.parser')\n",
    "        video_links = content.find_all('a', href=re.compile('.mp4'))\n",
    "        links = [link['href'] for link in video_links]\n",
    "        links.reverse()\n",
    "        return links\n",
    "\n",
    "    def get_link(self):\n",
    "        links = self.get_all_links()\n",
    "        available_qualities = self.get_qualities()\n",
    "        if self.quality not in available_qualities:\n",
    "            raise QualityError(\n",
    "                f'This quality in not available \\n available qualities are {available_qualities}')\n",
    "        else:\n",
    "            link = links[qualities[self.quality]]\n",
    "            return link\n",
    "\n",
    "    def get_qualities(self):\n",
    "        links = self.get_all_links()\n",
    "        qua = list(qualities.keys())\n",
    "        available_qualities = []\n",
    "        for i in range(len(links)):\n",
    "            available_qualities.append(qua[i])\n",
    "        return available_qualities"
   ]
  }
 ],
 "metadata": {
  "kernelspec": {
   "display_name": "Python 3 (ipykernel)",
   "language": "python",
   "name": "python3"
  },
  "language_info": {
   "codemirror_mode": {
    "name": "ipython",
    "version": 3
   },
   "file_extension": ".py",
   "mimetype": "text/x-python",
   "name": "python",
   "nbconvert_exporter": "python",
   "pygments_lexer": "ipython3",
   "version": "3.9.12"
  }
 },
 "nbformat": 4,
 "nbformat_minor": 5
}
