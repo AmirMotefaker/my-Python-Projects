{
 "cells": [
  {
   "cell_type": "markdown",
   "id": "09c2eb96",
   "metadata": {},
   "source": [
    "Download Video from namasha.com"
   ]
  },
  {
   "cell_type": "code",
   "execution_count": 1,
   "id": "b1dcb5bf",
   "metadata": {},
   "outputs": [],
   "source": [
    "import requests\n",
    "from bs4 import BeautifulSoup\n",
    "import re"
   ]
  }
 ],
 "metadata": {
  "kernelspec": {
   "display_name": "Python 3 (ipykernel)",
   "language": "python",
   "name": "python3"
  },
  "language_info": {
   "codemirror_mode": {
    "name": "ipython",
    "version": 3
   },
   "file_extension": ".py",
   "mimetype": "text/x-python",
   "name": "python",
   "nbconvert_exporter": "python",
   "pygments_lexer": "ipython3",
   "version": "3.9.12"
  }
 },
 "nbformat": 4,
 "nbformat_minor": 5
}
