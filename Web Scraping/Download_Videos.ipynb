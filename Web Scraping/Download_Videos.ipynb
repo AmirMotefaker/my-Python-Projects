{
 "cells": [
  {
   "cell_type": "markdown",
   "id": "f346a4f2",
   "metadata": {},
   "source": [
    "Download Video from namasha.com"
   ]
  },
  {
   "cell_type": "code",
   "execution_count": 1,
   "id": "6fcc178f",
   "metadata": {},
   "outputs": [],
   "source": [
    "import requests\n",
    "from bs4 import BeautifulSoup\n",
    "import re"
   ]
  },
  {
   "cell_type": "code",
   "execution_count": 2,
   "id": "ab4df621",
   "metadata": {},
   "outputs": [],
   "source": [
    "qualities = {\n",
    "    '144': 0,\n",
    "    '240': 1,\n",
    "    '360': 2,\n",
    "    '480': 3,\n",
    "    '720': 4,\n",
    "    '1080': 5\n",
    "}"
   ]
  }
 ],
 "metadata": {
  "kernelspec": {
   "display_name": "Python 3 (ipykernel)",
   "language": "python",
   "name": "python3"
  },
  "language_info": {
   "codemirror_mode": {
    "name": "ipython",
    "version": 3
   },
   "file_extension": ".py",
   "mimetype": "text/x-python",
   "name": "python",
   "nbconvert_exporter": "python",
   "pygments_lexer": "ipython3",
   "version": "3.9.12"
  }
 },
 "nbformat": 4,
 "nbformat_minor": 5
}
