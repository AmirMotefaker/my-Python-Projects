{
 "cells": [
  {
   "cell_type": "markdown",
   "id": "86a01f0d",
   "metadata": {},
   "source": [
    "Web Scraping Game of Thrones - Wikipedia"
   ]
  },
  {
   "cell_type": "code",
   "execution_count": 1,
   "id": "2cce474e",
   "metadata": {},
   "outputs": [],
   "source": [
    "import requests\n",
    "from bs4 import BeautifulSoup"
   ]
  },
  {
   "cell_type": "code",
   "execution_count": 2,
   "id": "dee17eab",
   "metadata": {},
   "outputs": [],
   "source": [
    "url = 'https://en.wikipedia.org/wiki/List_of_Game_of_Thrones_episodes'"
   ]
  },
  {
   "cell_type": "code",
   "execution_count": 3,
   "id": "16c7f335",
   "metadata": {},
   "outputs": [],
   "source": [
    "response = requests.get(url)\n",
    "content = BeautifulSoup(response.text, 'html.parser')\n",
    "\n",
    "episodes = []\n",
    "ep_tables = content.select('table.wikiepisodetable')"
   ]
  },
  {
   "cell_type": "code",
   "execution_count": 4,
   "id": "4f887aaf",
   "metadata": {},
   "outputs": [],
   "source": [
    "for table in ep_tables:\n",
    "\theaders = []\n",
    "\trows = table.find_all('tr')\n",
    "\n",
    "\tfor header in table.find('tr').find_all('th'):\n",
    "\t\theaders.append(header.text)\n",
    "\n",
    "\tfor row in table.find_all('tr')[1:]:\n",
    "\t\tvalues = []\n",
    "\t\tfor col in row.find_all(['th', 'td']):\n",
    "\t\t\tvalues.append(col.text)\n",
    "\n",
    "\t\tif values:\n",
    "\t\t\tepisode_dict = {headers[i]:values[i] for i in range(len(values))}\n",
    "\t\t\tepisodes.append(episode_dict)"
   ]
  },
  {
   "cell_type": "code",
   "execution_count": 5,
   "id": "1b15004d",
   "metadata": {},
   "outputs": [
    {
     "name": "stdout",
     "output_type": "stream",
     "text": [
      "{'No.overall': '1', 'No. inseason': '1', 'Title': '\"Winter Is Coming\"', 'Directed by': 'Tim Van Patten', 'Written by': 'David Benioff & D. B. Weiss', 'Original air date\\u200a[20]': 'April\\xa017,\\xa02011\\xa0(2011-04-17)', 'U.S. viewers(millions)': '2.22[21]'}\n",
      "{'No.overall': '2', 'No. inseason': '2', 'Title': '\"The Kingsroad\"', 'Directed by': 'Tim Van Patten', 'Written by': 'David Benioff & D. B. Weiss', 'Original air date\\u200a[20]': 'April\\xa024,\\xa02011\\xa0(2011-04-24)', 'U.S. viewers(millions)': '2.20[22]'}\n",
      "{'No.overall': '3', 'No. inseason': '3', 'Title': '\"Lord Snow\"', 'Directed by': 'Brian Kirk', 'Written by': 'David Benioff & D. B. Weiss', 'Original air date\\u200a[20]': 'May\\xa01,\\xa02011\\xa0(2011-05-01)', 'U.S. viewers(millions)': '2.44[23]'}\n",
      "{'No.overall': '4', 'No. inseason': '4', 'Title': '\"Cripples, Bastards, and Broken Things\"', 'Directed by': 'Brian Kirk', 'Written by': 'Bryan Cogman', 'Original air date\\u200a[20]': 'May\\xa08,\\xa02011\\xa0(2011-05-08)', 'U.S. viewers(millions)': '2.45[24]'}\n",
      "{'No.overall': '5', 'No. inseason': '5', 'Title': '\"The Wolf and the Lion\"', 'Directed by': 'Brian Kirk', 'Written by': 'David Benioff & D. B. Weiss', 'Original air date\\u200a[20]': 'May\\xa015,\\xa02011\\xa0(2011-05-15)', 'U.S. viewers(millions)': '2.58[25]'}\n",
      "{'No.overall': '6', 'No. inseason': '6', 'Title': '\"A Golden Crown\"', 'Directed by': 'Daniel Minahan', 'Written by': 'Story by\\u200a: David Benioff & D. B. WeissTeleplay by\\u200a: Jane Espenson and David Benioff & D. B. Weiss', 'Original air date\\u200a[20]': 'May\\xa022,\\xa02011\\xa0(2011-05-22)', 'U.S. viewers(millions)': '2.44[26]'}\n",
      "{'No.overall': '7', 'No. inseason': '7', 'Title': '\"You Win or You Die\"', 'Directed by': 'Daniel Minahan', 'Written by': 'David Benioff & D. B. Weiss', 'Original air date\\u200a[20]': 'May\\xa029,\\xa02011\\xa0(2011-05-29)', 'U.S. viewers(millions)': '2.40[27]'}\n",
      "{'No.overall': '8', 'No. inseason': '8', 'Title': '\"The Pointy End\"', 'Directed by': 'Daniel Minahan', 'Written by': 'George R. R. Martin', 'Original air date\\u200a[20]': 'June\\xa05,\\xa02011\\xa0(2011-06-05)', 'U.S. viewers(millions)': '2.72[28]'}\n",
      "{'No.overall': '9', 'No. inseason': '9', 'Title': '\"Baelor\"', 'Directed by': 'Alan Taylor', 'Written by': 'David Benioff & D. B. Weiss', 'Original air date\\u200a[20]': 'June\\xa012,\\xa02011\\xa0(2011-06-12)', 'U.S. viewers(millions)': '2.66[29]'}\n",
      "{'No.overall': '10', 'No. inseason': '10', 'Title': '\"Fire and Blood\"', 'Directed by': 'Alan Taylor', 'Written by': 'David Benioff & D. B. Weiss', 'Original air date\\u200a[20]': 'June\\xa019,\\xa02011\\xa0(2011-06-19)', 'U.S. viewers(millions)': '3.04[30]'}\n",
      "{'No.overall': '11', 'No. inseason': '1', 'Title': '\"The North Remembers\"', 'Directed by': 'Alan Taylor', 'Written by': 'David Benioff & D. B. Weiss', 'Original air date\\u200a[20]': 'April\\xa01,\\xa02012\\xa0(2012-04-01)', 'U.S. viewers(millions)': '3.86[31]'}\n",
      "{'No.overall': '12', 'No. inseason': '2', 'Title': '\"The Night Lands\"', 'Directed by': 'Alan Taylor', 'Written by': 'David Benioff & D. B. Weiss', 'Original air date\\u200a[20]': 'April\\xa08,\\xa02012\\xa0(2012-04-08)', 'U.S. viewers(millions)': '3.76[32]'}\n",
      "{'No.overall': '13', 'No. inseason': '3', 'Title': '\"What Is Dead May Never Die\"', 'Directed by': 'Alik Sakharov', 'Written by': 'Bryan Cogman', 'Original air date\\u200a[20]': 'April\\xa015,\\xa02012\\xa0(2012-04-15)', 'U.S. viewers(millions)': '3.77[33]'}\n",
      "{'No.overall': '14', 'No. inseason': '4', 'Title': '\"Garden of Bones\"', 'Directed by': 'David Petrarca', 'Written by': 'Vanessa Taylor', 'Original air date\\u200a[20]': 'April\\xa022,\\xa02012\\xa0(2012-04-22)', 'U.S. viewers(millions)': '3.65[34]'}\n",
      "{'No.overall': '15', 'No. inseason': '5', 'Title': '\"The Ghost of Harrenhal\"', 'Directed by': 'David Petrarca', 'Written by': 'David Benioff & D. B. Weiss', 'Original air date\\u200a[20]': 'April\\xa029,\\xa02012\\xa0(2012-04-29)', 'U.S. viewers(millions)': '3.90[35]'}\n",
      "{'No.overall': '16', 'No. inseason': '6', 'Title': '\"The Old Gods and the New\"', 'Directed by': 'David Nutter', 'Written by': 'Vanessa Taylor', 'Original air date\\u200a[20]': 'May\\xa06,\\xa02012\\xa0(2012-05-06)', 'U.S. viewers(millions)': '3.88[36]'}\n",
      "{'No.overall': '17', 'No. inseason': '7', 'Title': '\"A Man Without Honor\"', 'Directed by': 'David Nutter', 'Written by': 'David Benioff & D. B. Weiss', 'Original air date\\u200a[20]': 'May\\xa013,\\xa02012\\xa0(2012-05-13)', 'U.S. viewers(millions)': '3.69[37]'}\n",
      "{'No.overall': '18', 'No. inseason': '8', 'Title': '\"The Prince of Winterfell\"', 'Directed by': 'Alan Taylor', 'Written by': 'David Benioff & D. B. Weiss', 'Original air date\\u200a[20]': 'May\\xa020,\\xa02012\\xa0(2012-05-20)', 'U.S. viewers(millions)': '3.86[38]'}\n",
      "{'No.overall': '19', 'No. inseason': '9', 'Title': '\"Blackwater\"', 'Directed by': 'Neil Marshall', 'Written by': 'George R. R. Martin', 'Original air date\\u200a[20]': 'May\\xa027,\\xa02012\\xa0(2012-05-27)', 'U.S. viewers(millions)': '3.38[39]'}\n",
      "{'No.overall': '20', 'No. inseason': '10', 'Title': '\"Valar Morghulis\"', 'Directed by': 'Alan Taylor', 'Written by': 'David Benioff & D. B. Weiss', 'Original air date\\u200a[20]': 'June\\xa03,\\xa02012\\xa0(2012-06-03)', 'U.S. viewers(millions)': '4.20[40]'}\n",
      "{'No.overall': '21', 'No. inseason': '1', 'Title': '\"Valar Dohaeris\"', 'Directed by': 'Daniel Minahan', 'Written by': 'David Benioff & D. B. Weiss', 'Original air date\\u200a[20]': 'March\\xa031,\\xa02013\\xa0(2013-03-31)', 'U.S. viewers(millions)': '4.37[41]'}\n",
      "{'No.overall': '22', 'No. inseason': '2', 'Title': '\"Dark Wings, Dark Words\"', 'Directed by': 'Daniel Minahan', 'Written by': 'Vanessa Taylor', 'Original air date\\u200a[20]': 'April\\xa07,\\xa02013\\xa0(2013-04-07)', 'U.S. viewers(millions)': '4.27[42]'}\n",
      "{'No.overall': '23', 'No. inseason': '3', 'Title': '\"Walk of Punishment\"', 'Directed by': 'David Benioff', 'Written by': 'David Benioff & D. B. Weiss', 'Original air date\\u200a[20]': 'April\\xa014,\\xa02013\\xa0(2013-04-14)', 'U.S. viewers(millions)': '4.72[43]'}\n",
      "{'No.overall': '24', 'No. inseason': '4', 'Title': '\"And Now His Watch Is Ended\"', 'Directed by': 'Alex Graves', 'Written by': 'David Benioff & D. B. Weiss', 'Original air date\\u200a[20]': 'April\\xa021,\\xa02013\\xa0(2013-04-21)', 'U.S. viewers(millions)': '4.87[44]'}\n",
      "{'No.overall': '25', 'No. inseason': '5', 'Title': '\"Kissed by Fire\"', 'Directed by': 'Alex Graves', 'Written by': 'Bryan Cogman', 'Original air date\\u200a[20]': 'April\\xa028,\\xa02013\\xa0(2013-04-28)', 'U.S. viewers(millions)': '5.35[45]'}\n",
      "{'No.overall': '26', 'No. inseason': '6', 'Title': '\"The Climb\"', 'Directed by': 'Alik Sakharov', 'Written by': 'David Benioff & D. B. Weiss', 'Original air date\\u200a[20]': 'May\\xa05,\\xa02013\\xa0(2013-05-05)', 'U.S. viewers(millions)': '5.50[46]'}\n",
      "{'No.overall': '27', 'No. inseason': '7', 'Title': '\"The Bear and the Maiden Fair\"', 'Directed by': 'Michelle MacLaren', 'Written by': 'George R. R. Martin', 'Original air date\\u200a[20]': 'May\\xa012,\\xa02013\\xa0(2013-05-12)', 'U.S. viewers(millions)': '4.84[47]'}\n",
      "{'No.overall': '28', 'No. inseason': '8', 'Title': '\"Second Sons\"', 'Directed by': 'Michelle MacLaren', 'Written by': 'David Benioff & D. B. Weiss', 'Original air date\\u200a[20]': 'May\\xa019,\\xa02013\\xa0(2013-05-19)', 'U.S. viewers(millions)': '5.13[48]'}\n",
      "{'No.overall': '29', 'No. inseason': '9', 'Title': '\"The Rains of Castamere\"', 'Directed by': 'David Nutter', 'Written by': 'David Benioff & D. B. Weiss', 'Original air date\\u200a[20]': 'June\\xa02,\\xa02013\\xa0(2013-06-02)', 'U.S. viewers(millions)': '5.22[49]'}\n",
      "{'No.overall': '30', 'No. inseason': '10', 'Title': '\"Mhysa\"', 'Directed by': 'David Nutter', 'Written by': 'David Benioff & D. B. Weiss', 'Original air date\\u200a[20]': 'June\\xa09,\\xa02013\\xa0(2013-06-09)', 'U.S. viewers(millions)': '5.39[50]'}\n",
      "{'No.overall': '31', 'No. inseason': '1', 'Title': '\"Two Swords\"', 'Directed by': 'D. B. Weiss', 'Written by': 'David Benioff & D. B. Weiss', 'Original air date\\u200a[20]': 'April\\xa06,\\xa02014\\xa0(2014-04-06)', 'U.S. viewers(millions)': '6.64[51]'}\n",
      "{'No.overall': '32', 'No. inseason': '2', 'Title': '\"The Lion and the Rose\"', 'Directed by': 'Alex Graves', 'Written by': 'George R. R. Martin', 'Original air date\\u200a[20]': 'April\\xa013,\\xa02014\\xa0(2014-04-13)', 'U.S. viewers(millions)': '6.31[52]'}\n",
      "{'No.overall': '33', 'No. inseason': '3', 'Title': '\"Breaker of Chains\"', 'Directed by': 'Alex Graves', 'Written by': 'David Benioff & D. B. Weiss', 'Original air date\\u200a[20]': 'April\\xa020,\\xa02014\\xa0(2014-04-20)', 'U.S. viewers(millions)': '6.59[53]'}\n",
      "{'No.overall': '34', 'No. inseason': '4', 'Title': '\"Oathkeeper\"', 'Directed by': 'Michelle MacLaren', 'Written by': 'Bryan Cogman', 'Original air date\\u200a[20]': 'April\\xa027,\\xa02014\\xa0(2014-04-27)', 'U.S. viewers(millions)': '6.95[54]'}\n",
      "{'No.overall': '35', 'No. inseason': '5', 'Title': '\"First of His Name\"', 'Directed by': 'Michelle MacLaren', 'Written by': 'David Benioff & D. B. Weiss', 'Original air date\\u200a[20]': 'May\\xa04,\\xa02014\\xa0(2014-05-04)', 'U.S. viewers(millions)': '7.16[55]'}\n",
      "{'No.overall': '36', 'No. inseason': '6', 'Title': '\"The Laws of Gods and Men\"', 'Directed by': 'Alik Sakharov', 'Written by': 'Bryan Cogman', 'Original air date\\u200a[20]': 'May\\xa011,\\xa02014\\xa0(2014-05-11)', 'U.S. viewers(millions)': '6.40[56]'}\n",
      "{'No.overall': '37', 'No. inseason': '7', 'Title': '\"Mockingbird\"', 'Directed by': 'Alik Sakharov', 'Written by': 'David Benioff & D. B. Weiss', 'Original air date\\u200a[20]': 'May\\xa018,\\xa02014\\xa0(2014-05-18)', 'U.S. viewers(millions)': '7.20[57]'}\n",
      "{'No.overall': '38', 'No. inseason': '8', 'Title': '\"The Mountain and the Viper\"', 'Directed by': 'Alex Graves', 'Written by': 'David Benioff & D. B. Weiss', 'Original air date\\u200a[20]': 'June\\xa01,\\xa02014\\xa0(2014-06-01)', 'U.S. viewers(millions)': '7.17[58]'}\n",
      "{'No.overall': '39', 'No. inseason': '9', 'Title': '\"The Watchers on the Wall\"', 'Directed by': 'Neil Marshall', 'Written by': 'David Benioff & D. B. Weiss', 'Original air date\\u200a[20]': 'June\\xa08,\\xa02014\\xa0(2014-06-08)', 'U.S. viewers(millions)': '6.95[59]'}\n",
      "{'No.overall': '40', 'No. inseason': '10', 'Title': '\"The Children\"', 'Directed by': 'Alex Graves', 'Written by': 'David Benioff & D. B. Weiss', 'Original air date\\u200a[20]': 'June\\xa015,\\xa02014\\xa0(2014-06-15)', 'U.S. viewers(millions)': '7.09[60]'}\n",
      "{'No.overall': '41', 'No. inseason': '1', 'Title': '\"The Wars to Come\"', 'Directed by': 'Michael Slovis', 'Written by': 'David Benioff & D. B. Weiss', 'Original air date\\u200a[20]': 'April\\xa012,\\xa02015\\xa0(2015-04-12)', 'U.S. viewers(millions)': '8.00[61]'}\n",
      "{'No.overall': '42', 'No. inseason': '2', 'Title': '\"The House of Black and White\"', 'Directed by': 'Michael Slovis', 'Written by': 'David Benioff & D. B. Weiss', 'Original air date\\u200a[20]': 'April\\xa019,\\xa02015\\xa0(2015-04-19)', 'U.S. viewers(millions)': '6.81[62]'}\n",
      "{'No.overall': '43', 'No. inseason': '3', 'Title': '\"High Sparrow\"', 'Directed by': 'Mark Mylod', 'Written by': 'David Benioff & D. B. Weiss', 'Original air date\\u200a[20]': 'April\\xa026,\\xa02015\\xa0(2015-04-26)', 'U.S. viewers(millions)': '6.71[63]'}\n",
      "{'No.overall': '44', 'No. inseason': '4', 'Title': '\"Sons of the Harpy\"', 'Directed by': 'Mark Mylod', 'Written by': 'Dave Hill', 'Original air date\\u200a[20]': 'May\\xa03,\\xa02015\\xa0(2015-05-03)', 'U.S. viewers(millions)': '6.82[64]'}\n",
      "{'No.overall': '45', 'No. inseason': '5', 'Title': '\"Kill the Boy\"', 'Directed by': 'Jeremy Podeswa', 'Written by': 'Bryan Cogman', 'Original air date\\u200a[20]': 'May\\xa010,\\xa02015\\xa0(2015-05-10)', 'U.S. viewers(millions)': '6.56[65]'}\n",
      "{'No.overall': '46', 'No. inseason': '6', 'Title': '\"Unbowed, Unbent, Unbroken\"', 'Directed by': 'Jeremy Podeswa', 'Written by': 'Bryan Cogman', 'Original air date\\u200a[20]': 'May\\xa017,\\xa02015\\xa0(2015-05-17)', 'U.S. viewers(millions)': '6.24[66]'}\n",
      "{'No.overall': '47', 'No. inseason': '7', 'Title': '\"The Gift\"', 'Directed by': 'Miguel Sapochnik', 'Written by': 'David Benioff & D. B. Weiss', 'Original air date\\u200a[20]': 'May\\xa024,\\xa02015\\xa0(2015-05-24)', 'U.S. viewers(millions)': '5.40[67]'}\n",
      "{'No.overall': '48', 'No. inseason': '8', 'Title': '\"Hardhome\"', 'Directed by': 'Miguel Sapochnik', 'Written by': 'David Benioff & D. B. Weiss', 'Original air date\\u200a[20]': 'May\\xa031,\\xa02015\\xa0(2015-05-31)', 'U.S. viewers(millions)': '7.01[68]'}\n",
      "{'No.overall': '49', 'No. inseason': '9', 'Title': '\"The Dance of Dragons\"', 'Directed by': 'David Nutter', 'Written by': 'David Benioff & D. B. Weiss', 'Original air date\\u200a[20]': 'June\\xa07,\\xa02015\\xa0(2015-06-07)', 'U.S. viewers(millions)': '7.14[69]'}\n",
      "{'No.overall': '50', 'No. inseason': '10', 'Title': '\"Mother\\'s Mercy\"', 'Directed by': 'David Nutter', 'Written by': 'David Benioff & D. B. Weiss', 'Original air date\\u200a[20]': 'June\\xa014,\\xa02015\\xa0(2015-06-14)', 'U.S. viewers(millions)': '8.11[70]'}\n",
      "{'No.overall': '51', 'No. inseason': '1', 'Title': '\"The Red Woman\"', 'Directed by': 'Jeremy Podeswa', 'Written by': 'David Benioff & D. B. Weiss', 'Original air date\\u200a[20]': 'April\\xa024,\\xa02016\\xa0(2016-04-24)', 'U.S. viewers(millions)': '7.94[71]'}\n",
      "{'No.overall': '52', 'No. inseason': '2', 'Title': '\"Home\"', 'Directed by': 'Jeremy Podeswa', 'Written by': 'Dave Hill', 'Original air date\\u200a[20]': 'May\\xa01,\\xa02016\\xa0(2016-05-01)', 'U.S. viewers(millions)': '7.29[72]'}\n",
      "{'No.overall': '53', 'No. inseason': '3', 'Title': '\"Oathbreaker\"', 'Directed by': 'Daniel Sackheim', 'Written by': 'David Benioff & D. B. Weiss', 'Original air date\\u200a[20]': 'May\\xa08,\\xa02016\\xa0(2016-05-08)', 'U.S. viewers(millions)': '7.28[73]'}\n",
      "{'No.overall': '54', 'No. inseason': '4', 'Title': '\"Book of the Stranger\"', 'Directed by': 'Daniel Sackheim', 'Written by': 'David Benioff & D. B. Weiss', 'Original air date\\u200a[20]': 'May\\xa015,\\xa02016\\xa0(2016-05-15)', 'U.S. viewers(millions)': '7.82[74]'}\n",
      "{'No.overall': '55', 'No. inseason': '5', 'Title': '\"The Door\"', 'Directed by': 'Jack Bender', 'Written by': 'David Benioff & D. B. Weiss', 'Original air date\\u200a[20]': 'May\\xa022,\\xa02016\\xa0(2016-05-22)', 'U.S. viewers(millions)': '7.89[75]'}\n",
      "{'No.overall': '56', 'No. inseason': '6', 'Title': '\"Blood of My Blood\"', 'Directed by': 'Jack Bender', 'Written by': 'Bryan Cogman', 'Original air date\\u200a[20]': 'May\\xa029,\\xa02016\\xa0(2016-05-29)', 'U.S. viewers(millions)': '6.71[76]'}\n",
      "{'No.overall': '57', 'No. inseason': '7', 'Title': '\"The Broken Man\"', 'Directed by': 'Mark Mylod', 'Written by': 'Bryan Cogman', 'Original air date\\u200a[20]': 'June\\xa05,\\xa02016\\xa0(2016-06-05)', 'U.S. viewers(millions)': '7.80[77]'}\n",
      "{'No.overall': '58', 'No. inseason': '8', 'Title': '\"No One\"', 'Directed by': 'Mark Mylod', 'Written by': 'David Benioff & D. B. Weiss', 'Original air date\\u200a[20]': 'June\\xa012,\\xa02016\\xa0(2016-06-12)', 'U.S. viewers(millions)': '7.60[78]'}\n",
      "{'No.overall': '59', 'No. inseason': '9', 'Title': '\"Battle of the Bastards\"', 'Directed by': 'Miguel Sapochnik', 'Written by': 'David Benioff & D. B. Weiss', 'Original air date\\u200a[20]': 'June\\xa019,\\xa02016\\xa0(2016-06-19)', 'U.S. viewers(millions)': '7.66[79]'}\n",
      "{'No.overall': '60', 'No. inseason': '10', 'Title': '\"The Winds of Winter\"', 'Directed by': 'Miguel Sapochnik', 'Written by': 'David Benioff & D. B. Weiss', 'Original air date\\u200a[20]': 'June\\xa026,\\xa02016\\xa0(2016-06-26)', 'U.S. viewers(millions)': '8.89[80]'}\n",
      "{'No.overall': '61', 'No. inseason': '1', 'Title': '\"Dragonstone\"', 'Directed by': 'Jeremy Podeswa', 'Written by': 'David Benioff & D. B. Weiss', 'Original air date\\u200a[20]': 'July\\xa016,\\xa02017\\xa0(2017-07-16)', 'U.S. viewers(millions)': '10.11[81]'}\n",
      "{'No.overall': '62', 'No. inseason': '2', 'Title': '\"Stormborn\"', 'Directed by': 'Mark Mylod', 'Written by': 'Bryan Cogman', 'Original air date\\u200a[20]': 'July\\xa023,\\xa02017\\xa0(2017-07-23)', 'U.S. viewers(millions)': '9.27[82]'}\n",
      "{'No.overall': '63', 'No. inseason': '3', 'Title': '\"The Queen\\'s Justice\"', 'Directed by': 'Mark Mylod', 'Written by': 'David Benioff & D. B. Weiss', 'Original air date\\u200a[20]': 'July\\xa030,\\xa02017\\xa0(2017-07-30)', 'U.S. viewers(millions)': '9.25[83]'}\n",
      "{'No.overall': '64', 'No. inseason': '4', 'Title': '\"The Spoils of War\"', 'Directed by': 'Matt Shakman', 'Written by': 'David Benioff & D. B. Weiss', 'Original air date\\u200a[20]': 'August\\xa06,\\xa02017\\xa0(2017-08-06)', 'U.S. viewers(millions)': '10.17[84]'}\n",
      "{'No.overall': '65', 'No. inseason': '5', 'Title': '\"Eastwatch\"', 'Directed by': 'Matt Shakman', 'Written by': 'Dave Hill', 'Original air date\\u200a[20]': 'August\\xa013,\\xa02017\\xa0(2017-08-13)', 'U.S. viewers(millions)': '10.72[85]'}\n",
      "{'No.overall': '66', 'No. inseason': '6', 'Title': '\"Beyond the Wall\"', 'Directed by': 'Alan Taylor', 'Written by': 'David Benioff & D. B. Weiss', 'Original air date\\u200a[20]': 'August\\xa020,\\xa02017\\xa0(2017-08-20)', 'U.S. viewers(millions)': '10.24[86]'}\n",
      "{'No.overall': '67', 'No. inseason': '7', 'Title': '\"The Dragon and the Wolf\"', 'Directed by': 'Jeremy Podeswa', 'Written by': 'David Benioff & D. B. Weiss', 'Original air date\\u200a[20]': 'August\\xa027,\\xa02017\\xa0(2017-08-27)', 'U.S. viewers(millions)': '12.07[87]'}\n",
      "{'No.overall': '68', 'No. inseason': '1', 'Title': '\"Winterfell\"', 'Directed by': 'David Nutter', 'Written by': 'Dave Hill', 'Original air date\\u200a[20]': 'April\\xa014,\\xa02019\\xa0(2019-04-14)', 'U.S. viewers(millions)': '11.76[88]'}\n",
      "{'No.overall': '69', 'No. inseason': '2', 'Title': '\"A Knight of the Seven Kingdoms\"', 'Directed by': 'David Nutter', 'Written by': 'Bryan Cogman', 'Original air date\\u200a[20]': 'April\\xa021,\\xa02019\\xa0(2019-04-21)', 'U.S. viewers(millions)': '10.29[89]'}\n",
      "{'No.overall': '70', 'No. inseason': '3', 'Title': '\"The Long Night\"', 'Directed by': 'Miguel Sapochnik', 'Written by': 'David Benioff & D. B. Weiss', 'Original air date\\u200a[20]': 'April\\xa028,\\xa02019\\xa0(2019-04-28)', 'U.S. viewers(millions)': '12.02[90]'}\n",
      "{'No.overall': '71', 'No. inseason': '4', 'Title': '\"The Last of the Starks\"', 'Directed by': 'David Nutter', 'Written by': 'David Benioff & D. B. Weiss', 'Original air date\\u200a[20]': 'May\\xa05,\\xa02019\\xa0(2019-05-05)', 'U.S. viewers(millions)': '11.80[91]'}\n",
      "{'No.overall': '72', 'No. inseason': '5', 'Title': '\"The Bells\"', 'Directed by': 'Miguel Sapochnik', 'Written by': 'David Benioff & D. B. Weiss', 'Original air date\\u200a[20]': 'May\\xa012,\\xa02019\\xa0(2019-05-12)', 'U.S. viewers(millions)': '12.48[92]'}\n",
      "{'No.overall': '73', 'No. inseason': '6', 'Title': '\"The Iron Throne\"', 'Directed by': 'David Benioff & D. B. Weiss', 'Written by': 'David Benioff & D. B. Weiss', 'Original air date\\u200a[20]': 'May\\xa019,\\xa02019\\xa0(2019-05-19)', 'U.S. viewers(millions)': '13.61[93]'}\n",
      "{'No.': '1', 'Title': 'Game of Thrones: A Day in the Life', 'Original air date': 'February\\xa08,\\xa02015\\xa0(2015-02-08)', 'U.S. viewers(millions)': 'N/A'}\n",
      "{'No.': '\\nA half-hour documentary that covered one day of production of season 5 on three sets in Belfast, Dubrovnik and Osuna from the viewpoint of key crew members.[94]'}\n",
      "{'No.': '2', 'Title': 'Game of Thrones: The Last Watch', 'Original air date': 'May\\xa026,\\xa02019\\xa0(2019-05-26)', 'U.S. viewers(millions)': '1.63[96]'}\n",
      "{'No.': '\\nA two-hour documentary which documents the making of season eight.[95]'}\n"
     ]
    }
   ],
   "source": [
    "for ep in episodes:\n",
    "\tprint(ep)"
   ]
  }
 ],
 "metadata": {
  "kernelspec": {
   "display_name": "Python 3 (ipykernel)",
   "language": "python",
   "name": "python3"
  },
  "language_info": {
   "codemirror_mode": {
    "name": "ipython",
    "version": 3
   },
   "file_extension": ".py",
   "mimetype": "text/x-python",
   "name": "python",
   "nbconvert_exporter": "python",
   "pygments_lexer": "ipython3",
   "version": "3.9.12"
  }
 },
 "nbformat": 4,
 "nbformat_minor": 5
}
