{
 "cells": [
  {
   "cell_type": "markdown",
   "id": "a98fbf0a",
   "metadata": {},
   "source": [
    "Web Scraping Game of Thrones - Wikipedia"
   ]
  },
  {
   "cell_type": "code",
   "execution_count": 1,
   "id": "a25eb0eb",
   "metadata": {},
   "outputs": [],
   "source": [
    "import requests\n",
    "from bs4 import BeautifulSoup"
   ]
  },
  {
   "cell_type": "code",
   "execution_count": 2,
   "id": "21fc10d2",
   "metadata": {},
   "outputs": [],
   "source": [
    "url = 'https://en.wikipedia.org/wiki/List_of_Game_of_Thrones_episodes'"
   ]
  },
  {
   "cell_type": "code",
   "execution_count": 3,
   "id": "ee395366",
   "metadata": {},
   "outputs": [],
   "source": [
    "response = requests.get(url)\n",
    "content = BeautifulSoup(response.text, 'html.parser')\n",
    "\n",
    "episodes = []\n",
    "ep_tables = content.select('table.wikiepisodetable')"
   ]
  },
  {
   "cell_type": "code",
   "execution_count": 4,
   "id": "e9d45d14",
   "metadata": {},
   "outputs": [],
   "source": [
    "for table in ep_tables:\n",
    "\theaders = []\n",
    "\trows = table.find_all('tr')\n",
    "\n",
    "\tfor header in table.find('tr').find_all('th'):\n",
    "\t\theaders.append(header.text)\n",
    "\n",
    "\tfor row in table.find_all('tr')[1:]:\n",
    "\t\tvalues = []\n",
    "\t\tfor col in row.find_all(['th', 'td']):\n",
    "\t\t\tvalues.append(col.text)\n",
    "\n",
    "\t\tif values:\n",
    "\t\t\tepisode_dict = {headers[i]:values[i] for i in range(len(values))}\n",
    "\t\t\tepisodes.append(episode_dict)"
   ]
  }
 ],
 "metadata": {
  "kernelspec": {
   "display_name": "Python 3 (ipykernel)",
   "language": "python",
   "name": "python3"
  },
  "language_info": {
   "codemirror_mode": {
    "name": "ipython",
    "version": 3
   },
   "file_extension": ".py",
   "mimetype": "text/x-python",
   "name": "python",
   "nbconvert_exporter": "python",
   "pygments_lexer": "ipython3",
   "version": "3.9.12"
  }
 },
 "nbformat": 4,
 "nbformat_minor": 5
}
