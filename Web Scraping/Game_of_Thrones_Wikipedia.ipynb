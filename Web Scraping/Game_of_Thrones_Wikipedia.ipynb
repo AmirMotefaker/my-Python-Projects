{
 "cells": [
  {
   "cell_type": "markdown",
   "id": "14e0d99d",
   "metadata": {},
   "source": [
    "Web Scraping Game of Thrones - Wikipedia"
   ]
  },
  {
   "cell_type": "code",
   "execution_count": 1,
   "id": "cd7912f7",
   "metadata": {},
   "outputs": [],
   "source": [
    "import requests\n",
    "from bs4 import BeautifulSoup"
   ]
  },
  {
   "cell_type": "code",
   "execution_count": 2,
   "id": "56a74292",
   "metadata": {},
   "outputs": [],
   "source": [
    "url = 'https://en.wikipedia.org/wiki/List_of_Game_of_Thrones_episodes'"
   ]
  },
  {
   "cell_type": "code",
   "execution_count": 3,
   "id": "69bc24a5",
   "metadata": {},
   "outputs": [],
   "source": [
    "response = requests.get(url)\n",
    "content = BeautifulSoup(response.text, 'html.parser')\n",
    "\n",
    "episodes = []\n",
    "ep_tables = content.select('table.wikiepisodetable')"
   ]
  }
 ],
 "metadata": {
  "kernelspec": {
   "display_name": "Python 3 (ipykernel)",
   "language": "python",
   "name": "python3"
  },
  "language_info": {
   "codemirror_mode": {
    "name": "ipython",
    "version": 3
   },
   "file_extension": ".py",
   "mimetype": "text/x-python",
   "name": "python",
   "nbconvert_exporter": "python",
   "pygments_lexer": "ipython3",
   "version": "3.9.12"
  }
 },
 "nbformat": 4,
 "nbformat_minor": 5
}
