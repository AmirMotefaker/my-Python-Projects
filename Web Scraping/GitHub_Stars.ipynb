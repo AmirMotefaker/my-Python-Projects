{
 "cells": [
  {
   "cell_type": "markdown",
   "id": "afa30321",
   "metadata": {},
   "source": [
    "Web Scraping - GitHub Stars"
   ]
  },
  {
   "cell_type": "code",
   "execution_count": 1,
   "id": "dbfd90b6",
   "metadata": {},
   "outputs": [],
   "source": [
    "import requests\n",
    "from bs4 import BeautifulSoup\n",
    "import re"
   ]
  },
  {
   "cell_type": "code",
   "execution_count": 2,
   "id": "c1ea4417",
   "metadata": {},
   "outputs": [],
   "source": [
    "url = 'https://github.com/{}'\n",
    "username = 'benbalter'"
   ]
  },
  {
   "cell_type": "code",
   "execution_count": 3,
   "id": "1e6e4d06",
   "metadata": {},
   "outputs": [],
   "source": [
    "r = requests.get(url.format(username), params={'tab': 'repositories'})\n",
    "html_soup = BeautifulSoup(r.text, 'html.parser')\n",
    "repos_element = html_soup.find(id='user-repositories-list')\n",
    "repos = repos_element.find_all('li')"
   ]
  },
  {
   "cell_type": "code",
   "execution_count": 4,
   "id": "2541e191",
   "metadata": {},
   "outputs": [
    {
     "name": "stdout",
     "output_type": "stream",
     "text": [
      "retlab HTML 66\n",
      "word-to-markdown-server Ruby 56\n",
      "benbalter.github.com Ruby 144\n",
      "wordpress-to-jekyll-exporter PHP 1005\n",
      "bot-notification-silencer TypeScript 5\n",
      "coconductor Ruby 15\n",
      "comment-rollup TypeScript 1\n",
      "bulk-issue-creator Ruby 11\n",
      "word-to-markdown Ruby 1332\n",
      "squad_goals Ruby 11\n",
      "site-inspector-demo HTML 3\n",
      "site-inspector Ruby 83\n",
      "2021-analysis-of-federal-dotgov-domains HTML 12\n",
      "copy-issue-link-bookmarklet TypeScript 12\n",
      "dotfiles Ruby 30\n",
      "gman Ruby 150\n",
      "kubernetes.github.io HTML 1\n",
      "website-redesign HTML 1\n",
      "homepage HTML 1\n",
      "lee-dohm.github.io CSS 0\n",
      "probot.github.io HTML 3\n",
      "word_diff Ruby 187\n",
      "package_checker Ruby 1\n",
      "sitemap-parser Ruby 24\n",
      "jekyll-remote-theme Ruby 250\n",
      "brew Ruby 1\n",
      "wearemovingforward.github.io CSS 0\n",
      "gman-api Ruby 1\n",
      "assigned-to-trello Ruby 2\n",
      "dc-maps Ruby 149\n"
     ]
    }
   ],
   "source": [
    "for repo in repos:\n",
    "\tname = repo.find('h3').find('a').get_text(strip=True)\n",
    "\tlanguage = repo.find(attrs={'itemprop': 'programmingLanguage'})\n",
    "\tlanguage = language.get_text(strip=True) if language else 'unknown'\n",
    "\tstars = repo.find('a', attrs={'href': re.compile('\\/stargazers')})\n",
    "\tstars = int(stars.get_text(strip=True).replace(',', '')) if stars else 0\n",
    "\tprint(name, language, stars)"
   ]
  }
 ],
 "metadata": {
  "kernelspec": {
   "display_name": "Python 3 (ipykernel)",
   "language": "python",
   "name": "python3"
  },
  "language_info": {
   "codemirror_mode": {
    "name": "ipython",
    "version": 3
   },
   "file_extension": ".py",
   "mimetype": "text/x-python",
   "name": "python",
   "nbconvert_exporter": "python",
   "pygments_lexer": "ipython3",
   "version": "3.9.12"
  }
 },
 "nbformat": 4,
 "nbformat_minor": 5
}
