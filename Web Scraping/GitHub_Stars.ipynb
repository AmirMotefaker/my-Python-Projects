{
 "cells": [
  {
   "cell_type": "markdown",
   "id": "c865ba45",
   "metadata": {},
   "source": [
    "Web Scraping - GitHub Stars"
   ]
  },
  {
   "cell_type": "code",
   "execution_count": 1,
   "id": "b94f14b2",
   "metadata": {},
   "outputs": [],
   "source": [
    "import requests\n",
    "from bs4 import BeautifulSoup\n",
    "import re"
   ]
  },
  {
   "cell_type": "code",
   "execution_count": 2,
   "id": "f1546ae9",
   "metadata": {},
   "outputs": [],
   "source": [
    "url = 'https://github.com/{}'\n",
    "username = 'benbalter'"
   ]
  }
 ],
 "metadata": {
  "kernelspec": {
   "display_name": "Python 3 (ipykernel)",
   "language": "python",
   "name": "python3"
  },
  "language_info": {
   "codemirror_mode": {
    "name": "ipython",
    "version": 3
   },
   "file_extension": ".py",
   "mimetype": "text/x-python",
   "name": "python",
   "nbconvert_exporter": "python",
   "pygments_lexer": "ipython3",
   "version": "3.9.12"
  }
 },
 "nbformat": 4,
 "nbformat_minor": 5
}
