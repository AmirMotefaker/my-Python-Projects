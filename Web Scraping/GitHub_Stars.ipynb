{
 "cells": [
  {
   "cell_type": "markdown",
   "id": "7c9e100b",
   "metadata": {},
   "source": [
    "Web Scraping - GitHub Stars"
   ]
  },
  {
   "cell_type": "code",
   "execution_count": 1,
   "id": "fe45931c",
   "metadata": {},
   "outputs": [],
   "source": [
    "import requests\n",
    "from bs4 import BeautifulSoup\n",
    "import re"
   ]
  },
  {
   "cell_type": "code",
   "execution_count": 2,
   "id": "462488ee",
   "metadata": {},
   "outputs": [],
   "source": [
    "url = 'https://github.com/{}'\n",
    "username = 'benbalter'"
   ]
  },
  {
   "cell_type": "code",
   "execution_count": 3,
   "id": "541e5811",
   "metadata": {},
   "outputs": [],
   "source": [
    "r = requests.get(url.format(username), params={'tab': 'repositories'})\n",
    "html_soup = BeautifulSoup(r.text, 'html.parser')\n",
    "repos_element = html_soup.find(id='user-repositories-list')\n",
    "repos = repos_element.find_all('li')"
   ]
  }
 ],
 "metadata": {
  "kernelspec": {
   "display_name": "Python 3 (ipykernel)",
   "language": "python",
   "name": "python3"
  },
  "language_info": {
   "codemirror_mode": {
    "name": "ipython",
    "version": 3
   },
   "file_extension": ".py",
   "mimetype": "text/x-python",
   "name": "python",
   "nbconvert_exporter": "python",
   "pygments_lexer": "ipython3",
   "version": "3.9.12"
  }
 },
 "nbformat": 4,
 "nbformat_minor": 5
}
