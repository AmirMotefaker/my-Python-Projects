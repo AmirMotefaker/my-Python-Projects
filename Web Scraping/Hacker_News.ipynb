{
 "cells": [
  {
   "cell_type": "markdown",
   "id": "3df6b72c",
   "metadata": {},
   "source": [
    "Web Scraping - Hacker News"
   ]
  },
  {
   "cell_type": "code",
   "execution_count": 1,
   "id": "c3b5b222",
   "metadata": {},
   "outputs": [],
   "source": [
    "import requests\n",
    "import re\n",
    "from bs4 import BeautifulSoup"
   ]
  },
  {
   "cell_type": "code",
   "execution_count": 2,
   "id": "35772b46",
   "metadata": {},
   "outputs": [],
   "source": [
    "url = 'https://news.ycombinator.com/news'"
   ]
  },
  {
   "cell_type": "code",
   "execution_count": 3,
   "id": "ad292151",
   "metadata": {},
   "outputs": [],
   "source": [
    "articles = []\n",
    "r = requests.get(url)\n",
    "content = BeautifulSoup(r.text, 'html.parser')"
   ]
  },
  {
   "cell_type": "code",
   "execution_count": 4,
   "id": "9a0b998a",
   "metadata": {},
   "outputs": [],
   "source": [
    "for item in content.find_all('tr', class_='athing'):\n",
    "    item_a = item.find('a', class_='titlelink')\n",
    "    item_link = item_a.get('href') if item_a else None\n",
    "    item_text = item_a.get_text(strip=True) if item_a else None\n",
    "    next_row = item.find_next_sibling('tr')\n",
    "    item_score = next_row.find('span', class_='score')\n",
    "    item_score = item_score.get_text(strip=True) if item_score else '0 points'\n",
    "    item_comments = next_row.find(\n",
    "        'a', text=re.compile('\\d+(&nbsp;|\\s)comment(s?)'))\n",
    "    item_comments = item_comments.get_text(strip=True).replace(\n",
    "        '\\xa0', ' ') if item_comments else '0 comments'\n",
    "\n",
    "    articles.append({\n",
    "        'link': item_link,\n",
    "        'title': item_text,\n",
    "        'score': item_score,\n",
    "        'comments': item_comments,\n",
    "    })"
   ]
  },
  {
   "cell_type": "code",
   "execution_count": 5,
   "id": "2d147764",
   "metadata": {},
   "outputs": [
    {
     "name": "stdout",
     "output_type": "stream",
     "text": [
      "{'link': None, 'title': None, 'score': '152 points', 'comments': '15 comments'}\n",
      "{'link': None, 'title': None, 'score': '605 points', 'comments': '200 comments'}\n",
      "{'link': None, 'title': None, 'score': '19 points', 'comments': '13 comments'}\n",
      "{'link': None, 'title': None, 'score': '40 points', 'comments': '26 comments'}\n",
      "{'link': None, 'title': None, 'score': '92 points', 'comments': '53 comments'}\n",
      "{'link': None, 'title': None, 'score': '499 points', 'comments': '112 comments'}\n",
      "{'link': None, 'title': None, 'score': '321 points', 'comments': '113 comments'}\n",
      "{'link': None, 'title': None, 'score': '20 points', 'comments': '0 comments'}\n",
      "{'link': None, 'title': None, 'score': '85 points', 'comments': '10 comments'}\n",
      "{'link': None, 'title': None, 'score': '243 points', 'comments': '135 comments'}\n",
      "{'link': None, 'title': None, 'score': '119 points', 'comments': '72 comments'}\n",
      "{'link': None, 'title': None, 'score': '180 points', 'comments': '201 comments'}\n",
      "{'link': None, 'title': None, 'score': '136 points', 'comments': '13 comments'}\n",
      "{'link': None, 'title': None, 'score': '119 points', 'comments': '97 comments'}\n",
      "{'link': None, 'title': None, 'score': '196 points', 'comments': '70 comments'}\n",
      "{'link': None, 'title': None, 'score': '871 points', 'comments': '320 comments'}\n",
      "{'link': None, 'title': None, 'score': '51 points', 'comments': '5 comments'}\n",
      "{'link': None, 'title': None, 'score': '46 points', 'comments': '28 comments'}\n",
      "{'link': None, 'title': None, 'score': '29 points', 'comments': '14 comments'}\n",
      "{'link': None, 'title': None, 'score': '117 points', 'comments': '69 comments'}\n",
      "{'link': None, 'title': None, 'score': '126 points', 'comments': '53 comments'}\n",
      "{'link': None, 'title': None, 'score': '65 points', 'comments': '57 comments'}\n",
      "{'link': None, 'title': None, 'score': '44 points', 'comments': '21 comments'}\n",
      "{'link': None, 'title': None, 'score': '25 points', 'comments': '20 comments'}\n",
      "{'link': None, 'title': None, 'score': '64 points', 'comments': '11 comments'}\n",
      "{'link': None, 'title': None, 'score': '111 points', 'comments': '18 comments'}\n",
      "{'link': None, 'title': None, 'score': '427 points', 'comments': '124 comments'}\n",
      "{'link': None, 'title': None, 'score': '11 points', 'comments': '2 comments'}\n",
      "{'link': None, 'title': None, 'score': '130 points', 'comments': '77 comments'}\n",
      "{'link': None, 'title': None, 'score': '0 points', 'comments': '0 comments'}\n"
     ]
    }
   ],
   "source": [
    "for article in articles:\n",
    "    print(article)"
   ]
  }
 ],
 "metadata": {
  "kernelspec": {
   "display_name": "Python 3 (ipykernel)",
   "language": "python",
   "name": "python3"
  },
  "language_info": {
   "codemirror_mode": {
    "name": "ipython",
    "version": 3
   },
   "file_extension": ".py",
   "mimetype": "text/x-python",
   "name": "python",
   "nbconvert_exporter": "python",
   "pygments_lexer": "ipython3",
   "version": "3.9.12"
  }
 },
 "nbformat": 4,
 "nbformat_minor": 5
}
