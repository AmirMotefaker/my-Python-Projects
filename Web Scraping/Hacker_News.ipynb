{
 "cells": [
  {
   "cell_type": "markdown",
   "id": "6d448e61",
   "metadata": {},
   "source": [
    "Web Scraping - Hacker News"
   ]
  },
  {
   "cell_type": "code",
   "execution_count": 1,
   "id": "06e1b1fe",
   "metadata": {},
   "outputs": [],
   "source": [
    "import requests\n",
    "import re\n",
    "from bs4 import BeautifulSoup"
   ]
  },
  {
   "cell_type": "code",
   "execution_count": 2,
   "id": "b5e985a6",
   "metadata": {},
   "outputs": [],
   "source": [
    "url = 'https://news.ycombinator.com/news'"
   ]
  },
  {
   "cell_type": "code",
   "execution_count": 3,
   "id": "5e28d0c9",
   "metadata": {},
   "outputs": [],
   "source": [
    "articles = []\n",
    "r = requests.get(url)\n",
    "content = BeautifulSoup(r.text, 'html.parser')"
   ]
  }
 ],
 "metadata": {
  "kernelspec": {
   "display_name": "Python 3 (ipykernel)",
   "language": "python",
   "name": "python3"
  },
  "language_info": {
   "codemirror_mode": {
    "name": "ipython",
    "version": 3
   },
   "file_extension": ".py",
   "mimetype": "text/x-python",
   "name": "python",
   "nbconvert_exporter": "python",
   "pygments_lexer": "ipython3",
   "version": "3.9.12"
  }
 },
 "nbformat": 4,
 "nbformat_minor": 5
}
