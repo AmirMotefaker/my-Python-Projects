{
 "cells": [
  {
   "cell_type": "markdown",
   "id": "b92fb670",
   "metadata": {},
   "source": [
    "Web Scraping - Hacker News"
   ]
  },
  {
   "cell_type": "code",
   "execution_count": 1,
   "id": "fe32312c",
   "metadata": {},
   "outputs": [],
   "source": [
    "import requests\n",
    "import re\n",
    "from bs4 import BeautifulSoup"
   ]
  },
  {
   "cell_type": "code",
   "execution_count": 2,
   "id": "7222695f",
   "metadata": {},
   "outputs": [],
   "source": [
    "url = 'https://news.ycombinator.com/news'"
   ]
  },
  {
   "cell_type": "code",
   "execution_count": 3,
   "id": "1e1e128b",
   "metadata": {},
   "outputs": [],
   "source": [
    "articles = []\n",
    "r = requests.get(url)\n",
    "content = BeautifulSoup(r.text, 'html.parser')"
   ]
  },
  {
   "cell_type": "code",
   "execution_count": 4,
   "id": "556f7d87",
   "metadata": {},
   "outputs": [],
   "source": [
    "for item in content.find_all('tr', class_='athing'):\n",
    "    item_a = item.find('a', class_='titlelink')\n",
    "    item_link = item_a.get('href') if item_a else None\n",
    "    item_text = item_a.get_text(strip=True) if item_a else None\n",
    "    next_row = item.find_next_sibling('tr')\n",
    "    item_score = next_row.find('span', class_='score')\n",
    "    item_score = item_score.get_text(strip=True) if item_score else '0 points'\n",
    "    item_comments = next_row.find(\n",
    "        'a', text=re.compile('\\d+(&nbsp;|\\s)comment(s?)'))\n",
    "    item_comments = item_comments.get_text(strip=True).replace(\n",
    "        '\\xa0', ' ') if item_comments else '0 comments'\n",
    "\n",
    "    articles.append({\n",
    "        'link': item_link,\n",
    "        'title': item_text,\n",
    "        'score': item_score,\n",
    "        'comments': item_comments,\n",
    "    })"
   ]
  }
 ],
 "metadata": {
  "kernelspec": {
   "display_name": "Python 3 (ipykernel)",
   "language": "python",
   "name": "python3"
  },
  "language_info": {
   "codemirror_mode": {
    "name": "ipython",
    "version": 3
   },
   "file_extension": ".py",
   "mimetype": "text/x-python",
   "name": "python",
   "nbconvert_exporter": "python",
   "pygments_lexer": "ipython3",
   "version": "3.9.12"
  }
 },
 "nbformat": 4,
 "nbformat_minor": 5
}
