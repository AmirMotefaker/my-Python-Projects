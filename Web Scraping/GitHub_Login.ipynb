{
 "cells": [
  {
   "cell_type": "markdown",
   "id": "568bf161",
   "metadata": {},
   "source": [
    "Web Scraping - GitHub Login"
   ]
  },
  {
   "cell_type": "code",
   "execution_count": 2,
   "id": "b320fcc3",
   "metadata": {},
   "outputs": [],
   "source": [
    "import requests\n",
    "from bs4 import BeautifulSoup"
   ]
  },
  {
   "cell_type": "code",
   "execution_count": 3,
   "id": "f1dabf84",
   "metadata": {},
   "outputs": [],
   "source": [
    "session = requests.Session()"
   ]
  },
  {
   "cell_type": "code",
   "execution_count": 4,
   "id": "ac3db17d",
   "metadata": {},
   "outputs": [],
   "source": [
    "url = 'https://github.com/{}'\n",
    "username = 'amirmotefaker'"
   ]
  },
  {
   "cell_type": "code",
   "execution_count": 5,
   "id": "835d53ce",
   "metadata": {},
   "outputs": [],
   "source": [
    "r = session.get(url.format('login'))\n",
    "content = BeautifulSoup(r.text, 'html.parser')"
   ]
  },
  {
   "cell_type": "code",
   "execution_count": 6,
   "id": "40b51ddf",
   "metadata": {},
   "outputs": [],
   "source": [
    "data = {}\n",
    "for form in content.find_all('form'):\n",
    "\tfor inp in form.select('input[type=hidden]'):\n",
    "\t\tdata[inp.get('name')] = inp.get('value')"
   ]
  },
  {
   "cell_type": "code",
   "execution_count": 7,
   "id": "6eb5c2fc",
   "metadata": {},
   "outputs": [],
   "source": [
    "data.update({'login':'', 'password':''})"
   ]
  }
 ],
 "metadata": {
  "kernelspec": {
   "display_name": "Python 3 (ipykernel)",
   "language": "python",
   "name": "python3"
  },
  "language_info": {
   "codemirror_mode": {
    "name": "ipython",
    "version": 3
   },
   "file_extension": ".py",
   "mimetype": "text/x-python",
   "name": "python",
   "nbconvert_exporter": "python",
   "pygments_lexer": "ipython3",
   "version": "3.9.12"
  }
 },
 "nbformat": 4,
 "nbformat_minor": 5
}
