{
 "cells": [
  {
   "cell_type": "markdown",
   "id": "a07336bc",
   "metadata": {},
   "source": [
    "Web Scraping - GitHub Login"
   ]
  },
  {
   "cell_type": "code",
   "execution_count": 2,
   "id": "249e11cc",
   "metadata": {},
   "outputs": [],
   "source": [
    "import requests\n",
    "from bs4 import BeautifulSoup"
   ]
  },
  {
   "cell_type": "code",
   "execution_count": 3,
   "id": "f03c1ec3",
   "metadata": {},
   "outputs": [],
   "source": [
    "session = requests.Session()"
   ]
  }
 ],
 "metadata": {
  "kernelspec": {
   "display_name": "Python 3 (ipykernel)",
   "language": "python",
   "name": "python3"
  },
  "language_info": {
   "codemirror_mode": {
    "name": "ipython",
    "version": 3
   },
   "file_extension": ".py",
   "mimetype": "text/x-python",
   "name": "python",
   "nbconvert_exporter": "python",
   "pygments_lexer": "ipython3",
   "version": "3.9.12"
  }
 },
 "nbformat": 4,
 "nbformat_minor": 5
}
