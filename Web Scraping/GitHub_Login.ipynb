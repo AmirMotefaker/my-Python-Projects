{
 "cells": [
  {
   "cell_type": "markdown",
   "id": "6e7c0e61",
   "metadata": {},
   "source": [
    "Web Scraping - GitHub Login"
   ]
  },
  {
   "cell_type": "code",
   "execution_count": 2,
   "id": "e3e7e7ab",
   "metadata": {},
   "outputs": [],
   "source": [
    "import requests\n",
    "from bs4 import BeautifulSoup"
   ]
  },
  {
   "cell_type": "code",
   "execution_count": 3,
   "id": "2acd6617",
   "metadata": {},
   "outputs": [],
   "source": [
    "session = requests.Session()"
   ]
  },
  {
   "cell_type": "code",
   "execution_count": 4,
   "id": "5ae35ed2",
   "metadata": {},
   "outputs": [],
   "source": [
    "url = 'https://github.com/{}'\n",
    "username = 'amirmotefaker'"
   ]
  }
 ],
 "metadata": {
  "kernelspec": {
   "display_name": "Python 3 (ipykernel)",
   "language": "python",
   "name": "python3"
  },
  "language_info": {
   "codemirror_mode": {
    "name": "ipython",
    "version": 3
   },
   "file_extension": ".py",
   "mimetype": "text/x-python",
   "name": "python",
   "nbconvert_exporter": "python",
   "pygments_lexer": "ipython3",
   "version": "3.9.12"
  }
 },
 "nbformat": 4,
 "nbformat_minor": 5
}
