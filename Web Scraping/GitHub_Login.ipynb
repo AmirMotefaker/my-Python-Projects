{
 "cells": [
  {
   "cell_type": "markdown",
   "id": "47cb221c",
   "metadata": {},
   "source": [
    "Web Scraping - GitHub Login"
   ]
  },
  {
   "cell_type": "code",
   "execution_count": 2,
   "id": "7280c42a",
   "metadata": {},
   "outputs": [],
   "source": [
    "import requests\n",
    "from bs4 import BeautifulSoup"
   ]
  },
  {
   "cell_type": "code",
   "execution_count": 3,
   "id": "89162b06",
   "metadata": {},
   "outputs": [],
   "source": [
    "session = requests.Session()"
   ]
  },
  {
   "cell_type": "code",
   "execution_count": 4,
   "id": "670e5143",
   "metadata": {},
   "outputs": [],
   "source": [
    "url = 'https://github.com/{}'\n",
    "username = 'amirmotefaker'"
   ]
  },
  {
   "cell_type": "code",
   "execution_count": 5,
   "id": "b4cd7cd7",
   "metadata": {},
   "outputs": [],
   "source": [
    "r = session.get(url.format('login'))\n",
    "content = BeautifulSoup(r.text, 'html.parser')"
   ]
  },
  {
   "cell_type": "code",
   "execution_count": 6,
   "id": "780ffb07",
   "metadata": {},
   "outputs": [],
   "source": [
    "data = {}\n",
    "for form in content.find_all('form'):\n",
    "\tfor inp in form.select('input[type=hidden]'):\n",
    "\t\tdata[inp.get('name')] = inp.get('value')"
   ]
  },
  {
   "cell_type": "code",
   "execution_count": 7,
   "id": "354dd100",
   "metadata": {},
   "outputs": [],
   "source": [
    "data.update({'login':'', 'password':''})"
   ]
  },
  {
   "cell_type": "code",
   "execution_count": 8,
   "id": "59cf9727",
   "metadata": {},
   "outputs": [
    {
     "name": "stdout",
     "output_type": "stream",
     "text": [
      "\n",
      "\n",
      "MizeKhedmat\n",
      "\n",
      "\n",
      "Iran\n",
      "\n",
      "\n",
      "\n",
      "\n",
      "https://www.linkedin.com/in/amirmotefaker/\n",
      "\n",
      "Twitter\n",
      "@amirmotefaker\n",
      "\n",
      "\n"
     ]
    }
   ],
   "source": [
    "r = session.post(url.format('session'), data=data)\n",
    "r = session.get(url.format(username))\n",
    "content = BeautifulSoup(r.text, 'html.parser')\n",
    "user_info = content.find(class_='vcard-details')\n",
    "print(user_info.text)"
   ]
  }
 ],
 "metadata": {
  "kernelspec": {
   "display_name": "Python 3 (ipykernel)",
   "language": "python",
   "name": "python3"
  },
  "language_info": {
   "codemirror_mode": {
    "name": "ipython",
    "version": 3
   },
   "file_extension": ".py",
   "mimetype": "text/x-python",
   "name": "python",
   "nbconvert_exporter": "python",
   "pygments_lexer": "ipython3",
   "version": "3.9.12"
  }
 },
 "nbformat": 4,
 "nbformat_minor": 5
}
