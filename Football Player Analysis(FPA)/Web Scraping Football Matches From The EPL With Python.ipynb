{
 "cells": [
  {
   "cell_type": "markdown",
   "metadata": {},
   "source": [
    "Web Scraping Football Matches From The EPL With Python"
   ]
  },
  {
   "cell_type": "code",
   "execution_count": 8,
   "metadata": {},
   "outputs": [],
   "source": [
    "import requests"
   ]
  },
  {
   "cell_type": "code",
   "execution_count": 9,
   "metadata": {},
   "outputs": [],
   "source": [
    "standings_url = \"https://fbref.com/en/comps/9/Premier-League-Stats\""
   ]
  },
  {
   "cell_type": "code",
   "execution_count": 10,
   "metadata": {},
   "outputs": [],
   "source": [
    "data = requests.get(standings_url)"
   ]
  },
  {
   "cell_type": "code",
   "execution_count": 12,
   "metadata": {},
   "outputs": [],
   "source": [
    "from bs4 import BeautifulSoup"
   ]
  },
  {
   "cell_type": "code",
   "execution_count": 13,
   "metadata": {},
   "outputs": [],
   "source": [
    "soup = BeautifulSoup(data.text)"
   ]
  },
  {
   "cell_type": "code",
   "execution_count": 14,
   "metadata": {},
   "outputs": [],
   "source": [
    "standings_table = soup.select('table.stats_table')[0]"
   ]
  },
  {
   "cell_type": "code",
   "execution_count": 16,
   "metadata": {},
   "outputs": [],
   "source": [
    "links = standings_table.find_all('a')"
   ]
  },
  {
   "cell_type": "code",
   "execution_count": 17,
   "metadata": {},
   "outputs": [],
   "source": [
    "links = [l.get(\"href\") for l in links]"
   ]
  },
  {
   "cell_type": "code",
   "execution_count": 18,
   "metadata": {},
   "outputs": [],
   "source": [
    "links = [l for l in links if '/squads/' in l]"
   ]
  },
  {
   "cell_type": "code",
   "execution_count": 19,
   "metadata": {},
   "outputs": [
    {
     "data": {
      "text/plain": [
       "['/en/squads/18bb7c10/Arsenal-Stats',\n",
       " '/en/squads/b8fd03ef/Manchester-City-Stats',\n",
       " '/en/squads/b2b47a98/Newcastle-United-Stats',\n",
       " '/en/squads/361ca564/Tottenham-Hotspur-Stats',\n",
       " '/en/squads/19538871/Manchester-United-Stats',\n",
       " '/en/squads/822bd0ba/Liverpool-Stats',\n",
       " '/en/squads/d07537b9/Brighton-and-Hove-Albion-Stats',\n",
       " '/en/squads/cff3d9bb/Chelsea-Stats',\n",
       " '/en/squads/fd962109/Fulham-Stats',\n",
       " '/en/squads/cd051869/Brentford-Stats',\n",
       " '/en/squads/47c64c55/Crystal-Palace-Stats',\n",
       " '/en/squads/8602292d/Aston-Villa-Stats',\n",
       " '/en/squads/a2d435b3/Leicester-City-Stats',\n",
       " '/en/squads/4ba7cbea/Bournemouth-Stats',\n",
       " '/en/squads/5bfb9659/Leeds-United-Stats',\n",
       " '/en/squads/7c21e445/West-Ham-United-Stats',\n",
       " '/en/squads/d3fd31cc/Everton-Stats',\n",
       " '/en/squads/e4a775cb/Nottingham-Forest-Stats',\n",
       " '/en/squads/33c895d4/Southampton-Stats',\n",
       " '/en/squads/8cec06e1/Wolverhampton-Wanderers-Stats']"
      ]
     },
     "execution_count": 19,
     "metadata": {},
     "output_type": "execute_result"
    }
   ],
   "source": [
    "links"
   ]
  }
 ],
 "metadata": {
  "kernelspec": {
   "display_name": "Python 3.11.0 64-bit",
   "language": "python",
   "name": "python3"
  },
  "language_info": {
   "codemirror_mode": {
    "name": "ipython",
    "version": 3
   },
   "file_extension": ".py",
   "mimetype": "text/x-python",
   "name": "python",
   "nbconvert_exporter": "python",
   "pygments_lexer": "ipython3",
   "version": "3.11.0"
  },
  "orig_nbformat": 4,
  "vscode": {
   "interpreter": {
    "hash": "86673f23b3f3586e1f89e2ed6fc3cb0fbd155527bf9e08f6ab85bfcf444cd34c"
   }
  }
 },
 "nbformat": 4,
 "nbformat_minor": 2
}
