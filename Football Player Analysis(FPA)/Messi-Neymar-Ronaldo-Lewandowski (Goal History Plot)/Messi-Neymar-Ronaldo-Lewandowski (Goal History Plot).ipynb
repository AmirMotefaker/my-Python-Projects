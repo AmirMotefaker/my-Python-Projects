{
 "cells": [
  {
   "cell_type": "markdown",
   "id": "61d0454a",
   "metadata": {},
   "source": [
    "Messi/Neymar/Ronaldo/Lewandowski - Goal History Plot"
   ]
  },
  {
   "cell_type": "code",
   "execution_count": 1,
   "id": "2760462d",
   "metadata": {},
   "outputs": [],
   "source": [
    "import os\n",
    "import numpy as np\n",
    "import pandas as pd\n",
    "import matplotlib.pyplot as plt\n",
    "import seaborn as sns\n",
    "from tqdm import tqdm"
   ]
  },
  {
   "cell_type": "code",
   "execution_count": 2,
   "id": "318bbbe2",
   "metadata": {},
   "outputs": [],
   "source": [
    "train0=pd.read_csv('E:/AMotefaker/ABC/FPA/Messi, Neymar, Ronaldo, Lewandowski All Goals/DataSet/messi.csv')"
   ]
  }
 ],
 "metadata": {
  "kernelspec": {
   "display_name": "Python 3 (ipykernel)",
   "language": "python",
   "name": "python3"
  },
  "language_info": {
   "codemirror_mode": {
    "name": "ipython",
    "version": 3
   },
   "file_extension": ".py",
   "mimetype": "text/x-python",
   "name": "python",
   "nbconvert_exporter": "python",
   "pygments_lexer": "ipython3",
   "version": "3.9.12"
  }
 },
 "nbformat": 4,
 "nbformat_minor": 5
}
