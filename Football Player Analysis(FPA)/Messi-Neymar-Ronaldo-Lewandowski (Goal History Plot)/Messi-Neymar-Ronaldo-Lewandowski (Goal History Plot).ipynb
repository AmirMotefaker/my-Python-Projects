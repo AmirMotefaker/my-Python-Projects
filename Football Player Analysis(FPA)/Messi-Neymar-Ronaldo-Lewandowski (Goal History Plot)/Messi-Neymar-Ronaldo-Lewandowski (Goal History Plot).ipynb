{
 "cells": [
  {
   "cell_type": "markdown",
   "id": "de1bcff0",
   "metadata": {},
   "source": [
    "Messi/Neymar/Ronaldo/Lewandowski - Goal History Plot"
   ]
  },
  {
   "cell_type": "code",
   "execution_count": 1,
   "id": "d31e9ebd",
   "metadata": {},
   "outputs": [],
   "source": [
    "import os\n",
    "import numpy as np\n",
    "import pandas as pd\n",
    "import matplotlib.pyplot as plt\n",
    "import seaborn as sns\n",
    "from tqdm import tqdm"
   ]
  },
  {
   "cell_type": "code",
   "execution_count": 2,
   "id": "f70666d9",
   "metadata": {},
   "outputs": [],
   "source": [
    "train0=pd.read_csv('E:/AMotefaker/ABC/FPA/Messi, Neymar, Ronaldo, Lewandowski All Goals/DataSet/messi.csv')"
   ]
  },
  {
   "cell_type": "code",
   "execution_count": 3,
   "id": "0f79a4a9",
   "metadata": {},
   "outputs": [],
   "source": [
    "train1=pd.read_csv('E:/AMotefaker/ABC/FPA/Messi, Neymar, Ronaldo, Lewandowski All Goals/DataSet/neymar.csv')"
   ]
  },
  {
   "cell_type": "code",
   "execution_count": 4,
   "id": "cb50e937",
   "metadata": {},
   "outputs": [],
   "source": [
    "train2=pd.read_csv('E:/AMotefaker/ABC/FPA/Messi, Neymar, Ronaldo, Lewandowski All Goals/DataSet/ronaldo.csv')"
   ]
  },
  {
   "cell_type": "code",
   "execution_count": 5,
   "id": "9de44943",
   "metadata": {},
   "outputs": [],
   "source": [
    "train3=pd.read_csv('E:/AMotefaker/ABC/FPA/Messi, Neymar, Ronaldo, Lewandowski All Goals/DataSet/lewandowski.csv')"
   ]
  },
  {
   "cell_type": "code",
   "execution_count": 6,
   "id": "381f8c5b",
   "metadata": {},
   "outputs": [
    {
     "data": {
      "text/html": [
       "<div>\n",
       "<style scoped>\n",
       "    .dataframe tbody tr th:only-of-type {\n",
       "        vertical-align: middle;\n",
       "    }\n",
       "\n",
       "    .dataframe tbody tr th {\n",
       "        vertical-align: top;\n",
       "    }\n",
       "\n",
       "    .dataframe thead th {\n",
       "        text-align: right;\n",
       "    }\n",
       "</style>\n",
       "<table border=\"1\" class=\"dataframe\">\n",
       "  <thead>\n",
       "    <tr style=\"text-align: right;\">\n",
       "      <th></th>\n",
       "      <th>Tournament</th>\n",
       "      <th>Matchday</th>\n",
       "      <th>Date</th>\n",
       "      <th>Venue</th>\n",
       "      <th>Club</th>\n",
       "      <th>Opponent</th>\n",
       "      <th>Result</th>\n",
       "      <th>Position</th>\n",
       "      <th>Minute</th>\n",
       "      <th>When Scored</th>\n",
       "      <th>Goal Type</th>\n",
       "      <th>Assist</th>\n",
       "    </tr>\n",
       "  </thead>\n",
       "  <tbody>\n",
       "    <tr>\n",
       "      <th>0</th>\n",
       "      <td>2ª B - Grupo III</td>\n",
       "      <td>2</td>\n",
       "      <td>9/5/04</td>\n",
       "      <td>Home</td>\n",
       "      <td>FC Barcelona B</td>\n",
       "      <td>Girona FC</td>\n",
       "      <td>1:2</td>\n",
       "      <td>AM</td>\n",
       "      <td>65'</td>\n",
       "      <td>1:2</td>\n",
       "      <td>Left-footed shot</td>\n",
       "      <td>Dani Fernández</td>\n",
       "    </tr>\n",
       "    <tr>\n",
       "      <th>1</th>\n",
       "      <td>2ª B - Grupo III</td>\n",
       "      <td>4</td>\n",
       "      <td>9/18/04</td>\n",
       "      <td>Home</td>\n",
       "      <td>FC Barcelona B</td>\n",
       "      <td>RCD Espanyol B</td>\n",
       "      <td>2:0</td>\n",
       "      <td>AM</td>\n",
       "      <td>88'</td>\n",
       "      <td>2:0</td>\n",
       "      <td>Left-footed shot</td>\n",
       "      <td>Dani Fernández</td>\n",
       "    </tr>\n",
       "    <tr>\n",
       "      <th>2</th>\n",
       "      <td>2ª B - Grupo III</td>\n",
       "      <td>10</td>\n",
       "      <td>10/31/04</td>\n",
       "      <td>Away</td>\n",
       "      <td>FC Barcelona B</td>\n",
       "      <td>Villajoyosa CF</td>\n",
       "      <td>2:1</td>\n",
       "      <td>AM</td>\n",
       "      <td>2'</td>\n",
       "      <td>0:1</td>\n",
       "      <td>Not Applicable</td>\n",
       "      <td>Not Applicable</td>\n",
       "    </tr>\n",
       "  </tbody>\n",
       "</table>\n",
       "</div>"
      ],
      "text/plain": [
       "          Tournament Matchday      Date Venue            Club        Opponent  \\\n",
       "0  2ª B - Grupo III         2    9/5/04  Home  FC Barcelona B       Girona FC   \n",
       "1  2ª B - Grupo III         4   9/18/04  Home  FC Barcelona B  RCD Espanyol B   \n",
       "2  2ª B - Grupo III        10  10/31/04  Away  FC Barcelona B  Villajoyosa CF   \n",
       "\n",
       "  Result Position Minute When Scored         Goal Type          Assist  \n",
       "0    1:2       AM    65'         1:2  Left-footed shot  Dani Fernández  \n",
       "1    2:0       AM    88'         2:0  Left-footed shot  Dani Fernández  \n",
       "2    2:1       AM     2'         0:1    Not Applicable  Not Applicable  "
      ]
     },
     "metadata": {},
     "output_type": "display_data"
    }
   ],
   "source": [
    "display(train0[0:3])\n",
    "train0['count']=1\n",
    "train1['count']=1\n",
    "train2['count']=1\n",
    "train3['count']=1"
   ]
  }
 ],
 "metadata": {
  "kernelspec": {
   "display_name": "Python 3 (ipykernel)",
   "language": "python",
   "name": "python3"
  },
  "language_info": {
   "codemirror_mode": {
    "name": "ipython",
    "version": 3
   },
   "file_extension": ".py",
   "mimetype": "text/x-python",
   "name": "python",
   "nbconvert_exporter": "python",
   "pygments_lexer": "ipython3",
   "version": "3.9.12"
  }
 },
 "nbformat": 4,
 "nbformat_minor": 5
}
