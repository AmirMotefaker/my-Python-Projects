{
 "cells": [
  {
   "cell_type": "markdown",
   "id": "42952471",
   "metadata": {},
   "source": [
    "Messi/Neymar/Ronaldo/Lewandowski - Goal History Plot"
   ]
  },
  {
   "cell_type": "code",
   "execution_count": 1,
   "id": "3680aa9d",
   "metadata": {},
   "outputs": [],
   "source": [
    "import os\n",
    "import numpy as np\n",
    "import pandas as pd\n",
    "import matplotlib.pyplot as plt\n",
    "import seaborn as sns\n",
    "from tqdm import tqdm"
   ]
  },
  {
   "cell_type": "code",
   "execution_count": 2,
   "id": "9610b640",
   "metadata": {},
   "outputs": [],
   "source": [
    "train0=pd.read_csv('E:/AMotefaker/ABC/FPA/Messi, Neymar, Ronaldo, Lewandowski All Goals/DataSet/messi.csv')"
   ]
  },
  {
   "cell_type": "code",
   "execution_count": 3,
   "id": "40aa5a5e",
   "metadata": {},
   "outputs": [],
   "source": [
    "train1=pd.read_csv('E:/AMotefaker/ABC/FPA/Messi, Neymar, Ronaldo, Lewandowski All Goals/DataSet/neymar.csv')"
   ]
  },
  {
   "cell_type": "code",
   "execution_count": 4,
   "id": "a357ddc9",
   "metadata": {},
   "outputs": [],
   "source": [
    "train2=pd.read_csv('E:/AMotefaker/ABC/FPA/Messi, Neymar, Ronaldo, Lewandowski All Goals/DataSet/ronaldo.csv')"
   ]
  },
  {
   "cell_type": "code",
   "execution_count": 5,
   "id": "6d74f74c",
   "metadata": {},
   "outputs": [],
   "source": [
    "train3=pd.read_csv('E:/AMotefaker/ABC/FPA/Messi, Neymar, Ronaldo, Lewandowski All Goals/DataSet/lewandowski.csv')"
   ]
  }
 ],
 "metadata": {
  "kernelspec": {
   "display_name": "Python 3 (ipykernel)",
   "language": "python",
   "name": "python3"
  },
  "language_info": {
   "codemirror_mode": {
    "name": "ipython",
    "version": 3
   },
   "file_extension": ".py",
   "mimetype": "text/x-python",
   "name": "python",
   "nbconvert_exporter": "python",
   "pygments_lexer": "ipython3",
   "version": "3.9.12"
  }
 },
 "nbformat": 4,
 "nbformat_minor": 5
}
