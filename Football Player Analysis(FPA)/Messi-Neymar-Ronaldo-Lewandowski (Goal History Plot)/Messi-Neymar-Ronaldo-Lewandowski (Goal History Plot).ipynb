{
 "cells": [
  {
   "cell_type": "markdown",
   "id": "b2ff5103",
   "metadata": {},
   "source": [
    "Messi/Neymar/Ronaldo/Lewandowski - Goal History Plot"
   ]
  },
  {
   "cell_type": "code",
   "execution_count": 1,
   "id": "f4df86e6",
   "metadata": {},
   "outputs": [],
   "source": [
    "import os\n",
    "import numpy as np\n",
    "import pandas as pd\n",
    "import matplotlib.pyplot as plt\n",
    "import seaborn as sns\n",
    "from tqdm import tqdm"
   ]
  },
  {
   "cell_type": "code",
   "execution_count": 2,
   "id": "43973591",
   "metadata": {},
   "outputs": [],
   "source": [
    "train0=pd.read_csv('E:/AMotefaker/ABC/FPA/Messi, Neymar, Ronaldo, Lewandowski All Goals/DataSet/messi.csv')"
   ]
  },
  {
   "cell_type": "code",
   "execution_count": 3,
   "id": "c916ef21",
   "metadata": {},
   "outputs": [],
   "source": [
    "train1=pd.read_csv('E:/AMotefaker/ABC/FPA/Messi, Neymar, Ronaldo, Lewandowski All Goals/DataSet/neymar.csv')"
   ]
  }
 ],
 "metadata": {
  "kernelspec": {
   "display_name": "Python 3 (ipykernel)",
   "language": "python",
   "name": "python3"
  },
  "language_info": {
   "codemirror_mode": {
    "name": "ipython",
    "version": 3
   },
   "file_extension": ".py",
   "mimetype": "text/x-python",
   "name": "python",
   "nbconvert_exporter": "python",
   "pygments_lexer": "ipython3",
   "version": "3.9.12"
  }
 },
 "nbformat": 4,
 "nbformat_minor": 5
}
