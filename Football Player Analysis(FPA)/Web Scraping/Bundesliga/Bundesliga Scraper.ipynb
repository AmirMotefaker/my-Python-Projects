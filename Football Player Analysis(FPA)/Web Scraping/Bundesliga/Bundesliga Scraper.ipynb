{
 "cells": [
  {
   "cell_type": "markdown",
   "id": "600a965c-a70e-4aaa-ac8f-850acd6a84df",
   "metadata": {},
   "source": [
    "Bundesliga - Web Scrapper"
   ]
  },
  {
   "cell_type": "code",
   "execution_count": 11,
   "id": "7c6a5f84-90c8-4a0a-b0dd-c86064b74a29",
   "metadata": {},
   "outputs": [],
   "source": [
    "import requests\n",
    "from bs4 import BeautifulSoup\n",
    "import pandas as pd\n",
    "from selenium import webdriver\n",
    "import time"
   ]
  },
  {
   "cell_type": "code",
   "execution_count": 12,
   "id": "b1b3cd8d-a604-4878-b4c4-4f2f6fde5d7d",
   "metadata": {},
   "outputs": [],
   "source": [
    "# 1\n",
    "names = list()\n",
    "# 2\n",
    "nationality = list()\n",
    "# 3\n",
    "position = list()\n",
    "# 4\n",
    "age = list()\n",
    "# 5\n",
    "matches = list()\n",
    "# 6\n",
    "starts = list()\n",
    "# 7\n",
    "mins_played = list()\n",
    "# 9\n",
    "goals = list()\n",
    "# 10\n",
    "assists = list()\n",
    "# 12\n",
    "penalty_goals = list()\n",
    "# 13\n",
    "penalty_attempted = list()\n",
    "# 14\n",
    "yellow_cards = list()\n",
    "# 15\n",
    "red_cards = list()\n",
    "# 21\n",
    "xG = list()\n",
    "# 23\n",
    "xA = list()\n",
    "attempted = list()\n",
    "passes_comp = list()\n",
    "club = list()"
   ]
  },
  {
   "cell_type": "code",
   "execution_count": 13,
   "id": "dc2e0d5d-be1b-46ed-81f1-b06562e1a054",
   "metadata": {},
   "outputs": [],
   "source": [
    "def getPassingStats(link, threshold_d):\n",
    "\n",
    "    page = requests.get(link)\n",
    "    soup = BeautifulSoup(page.text, 'html.parser')\n",
    "\n",
    "    table = soup.find_all('table')[5]\n",
    "    body = table.find_all('tbody')[0]\n",
    "    rows = body.find_all('tr')\n",
    "    print(\"aya\", threshold_d)\n",
    "    temp_players = list()\n",
    "    count = 0\n",
    "    for row in rows:\n",
    "        count += 1\n",
    "        data = row.find_all('td')\n",
    "        temp = list()\n",
    "        temp.append(row.find('a').get_text())\n",
    "        for d in data:\n",
    "            temp.append(d.text)\n",
    "        try:\n",
    "            integer_data = int(data[5].text)\n",
    "            attempted.append(integer_data)\n",
    "        except:\n",
    "            attempted.append(-1)\n",
    "            \n",
    "        try:\n",
    "            float_data = float(data[6].text)\n",
    "            passes_comp.append(float_data)\n",
    "        except:\n",
    "            passes_comp.append(-1.0)\n",
    "    print(\"Number of passing stats: {}\".format(count))"
   ]
  },
  {
   "cell_type": "code",
   "execution_count": 14,
   "id": "da4419bb-608a-4bfd-a082-40facda01d7b",
   "metadata": {},
   "outputs": [],
   "source": [
    "def fetchWebsiteData(link, threshold_d):\n",
    "    \n",
    "    getPassingStats(link, threshold_d)\n",
    "    page = requests.get(link)\n",
    "    soup = BeautifulSoup(page.text, 'html.parser')\n",
    "\n",
    "    table = soup.find_all('table')[0]\n",
    "    body = table.find_all('tbody')[0]\n",
    "    rows = body.find_all('tr')\n",
    "\n",
    "    all_players = list()\n",
    "    for row in rows:\n",
    "        data = row.find_all('td')\n",
    "        temp = list()\n",
    "        temp.append(row.find('a').get_text())\n",
    "        for d in data:\n",
    "            temp.append(d.text)\n",
    "        all_players.append(temp)\n",
    "    return all_players"
   ]
  },
  {
   "cell_type": "code",
   "execution_count": 15,
   "id": "abd1b4df-26d0-4de1-9a71-ebae6a887b5a",
   "metadata": {},
   "outputs": [],
   "source": [
    "def appendData(team, threshold, all_players):\n",
    "    for player in all_players[:threshold]:\n",
    "        names.append(player[0])\n",
    "        club.append(team)\n",
    "        nationality.append(player[1].split(' ')[1])\n",
    "        position.append(player[2])\n",
    "        age.append(player[3])\n",
    "        matches.append(player[4])\n",
    "        starts.append(player[5])\n",
    "        mins_played.append(player[6].replace(',', ''))\n",
    "        goals.append(player[8])\n",
    "        assists.append(player[9])\n",
    "        penalty_goals.append(player[11])\n",
    "        penalty_attempted.append(player[12])\n",
    "        yellow_cards.append(player[13])\n",
    "        red_cards.append(player[14])\n",
    "        try:\n",
    "            xG.append(player[24])\n",
    "            xA.append(player[25])\n",
    "        except:\n",
    "            xG.append(-1)\n",
    "            xA.append(-1)"
   ]
  },
  {
   "cell_type": "code",
   "execution_count": 16,
   "id": "31545e4e-639e-4cd1-8dfb-ef0e43a82a91",
   "metadata": {},
   "outputs": [],
   "source": [
    "def convertDataFrame():\n",
    "    df = pd.DataFrame({\n",
    "        'Name': names,\n",
    "        'Club': club,\n",
    "        'Nationality': nationality,\n",
    "        'Position': position,\n",
    "        'Age': age,\n",
    "        'Matches': matches,\n",
    "        'Starts': starts,\n",
    "        'Mins': mins_played,\n",
    "        'Goals': goals,\n",
    "        'Assists': assists,\n",
    "        'Passes_Attempted': attempted,\n",
    "        'Perc_Passes_Completed': passes_comp,\n",
    "        'Penalty_Goals': penalty_goals,\n",
    "        'Penalty_Attempted': penalty_attempted,\n",
    "        'xG': xG,\n",
    "        'xA': xA,\n",
    "        'Yellow_Cards': yellow_cards,\n",
    "        'Red_Cards': red_cards,\n",
    "\n",
    "    })\n",
    "    df['Age'] = df['Age'].astype(int)\n",
    "    df['Matches'] = df['Matches'].astype(int)\n",
    "    df['Starts'] = df['Starts'].astype(int)\n",
    "    df['Mins'] = df['Mins'].astype(int)\n",
    "    df['Goals'] = df['Goals'].astype(int)\n",
    "    df['Assists'] = df['Assists'].astype(int)\n",
    "    df['Penalty_Goals'] = df['Penalty_Goals'].astype(int)\n",
    "    df['Penalty_Attempted'] = df['Penalty_Attempted'].astype(int)\n",
    "    df['xG'] = df['xG'].astype(float)\n",
    "    df['xA'] = df['xA'].astype(float)\n",
    "    df['Yellow_Cards'] = df['Yellow_Cards'].astype(int)\n",
    "    df['Red_Cards'] = df['Red_Cards'].astype(int)\n",
    "    df['Passes_Attempted'] = df['Passes_Attempted'].astype(int)\n",
    "    df['Perc_Passes_Completed'] = df['Perc_Passes_Completed'].astype(float)\n",
    "    \n",
    "    return df"
   ]
  },
  {
   "cell_type": "code",
   "execution_count": 17,
   "id": "f17bc3de-ea16-4b9c-8fa8-e8a2afaa7de9",
   "metadata": {},
   "outputs": [],
   "source": [
    "link = [\n",
    "    'https://fbref.com/en/squads/054efa67/Bayern-Munich-Stats',\n",
    "    'https://fbref.com/en/squads/acbb6a5b/RB-Leipzig-Stats',\n",
    "    'https://fbref.com/en/squads/add600ae/Dortmund-Stats',\n",
    "    'https://fbref.com/en/squads/4eaa11d7/Wolfsburg-Stats',\n",
    "    'https://fbref.com/en/squads/f0ac8ee6/Eintracht-Frankfurt-Stats',\n",
    "    'https://fbref.com/en/squads/c7a9f859/Bayer-Leverkusen-Stats',\n",
    "    'https://fbref.com/en/squads/7a41008f/Union-Berlin-Stats'\n",
    "    \n",
    "]\n",
    "\n",
    "team = [\n",
    "    'Bayern Munich',\n",
    "    'RB Leipzig',\n",
    "    'Borussia Dortmund',\n",
    "    'Wolfsburg',\n",
    "    'Eintracht Frankfurt',\n",
    "    'Bayer Leverkusen',\n",
    "    'Union Berlin'\n",
    "    \n",
    "]\n",
    "threshold = [\n",
    "    29,\n",
    "    25,\n",
    "    26,\n",
    "    26,\n",
    "    25,\n",
    "    30,\n",
    "    27\n",
    "    \n",
    "]"
   ]
  },
  {
   "cell_type": "code",
   "execution_count": 18,
   "id": "61499fb3-17b6-4123-9ca6-1acbf5fdfc22",
   "metadata": {},
   "outputs": [
    {
     "name": "stdout",
     "output_type": "stream",
     "text": [
      "aya 29\n",
      "Number of passing stats: 23\n",
      "Count: 1\n",
      "aya 25\n",
      "Number of passing stats: 25\n",
      "Count: 2\n",
      "aya 26\n",
      "Number of passing stats: 26\n",
      "Count: 3\n",
      "aya 26\n",
      "Number of passing stats: 25\n",
      "Count: 4\n",
      "aya 25\n",
      "Number of passing stats: 23\n",
      "Count: 5\n",
      "aya 30\n",
      "Number of passing stats: 25\n",
      "Count: 6\n",
      "aya 27\n",
      "Number of passing stats: 25\n",
      "Count: 7\n",
      "Final Count: 7\n"
     ]
    }
   ],
   "source": [
    "count = 0\n",
    "for i in range(len(link)):\n",
    "    count += 1\n",
    "    web_page_data = fetchWebsiteData(link[i], threshold[i])\n",
    "    appendData(team[i], threshold[i], web_page_data)\n",
    "    print(\"Count: {}\".format(count))\n",
    "print(\"Final Count: {}\".format(count))\n"
   ]
  },
  {
   "cell_type": "code",
   "execution_count": 19,
   "id": "42b2d537-ff16-4621-8720-5edc55f067f2",
   "metadata": {},
   "outputs": [
    {
     "ename": "ValueError",
     "evalue": "All arrays must be of the same length",
     "output_type": "error",
     "traceback": [
      "\u001b[1;31m---------------------------------------------------------------------------\u001b[0m",
      "\u001b[1;31mValueError\u001b[0m                                Traceback (most recent call last)",
      "Cell \u001b[1;32mIn [19], line 1\u001b[0m\n\u001b[1;32m----> 1\u001b[0m df \u001b[38;5;241m=\u001b[39m \u001b[43mconvertDataFrame\u001b[49m\u001b[43m(\u001b[49m\u001b[43m)\u001b[49m\n",
      "Cell \u001b[1;32mIn [16], line 2\u001b[0m, in \u001b[0;36mconvertDataFrame\u001b[1;34m()\u001b[0m\n\u001b[0;32m      1\u001b[0m \u001b[38;5;28;01mdef\u001b[39;00m \u001b[38;5;21mconvertDataFrame\u001b[39m():\n\u001b[1;32m----> 2\u001b[0m     df \u001b[38;5;241m=\u001b[39m \u001b[43mpd\u001b[49m\u001b[38;5;241;43m.\u001b[39;49m\u001b[43mDataFrame\u001b[49m\u001b[43m(\u001b[49m\u001b[43m{\u001b[49m\n\u001b[0;32m      3\u001b[0m \u001b[43m        \u001b[49m\u001b[38;5;124;43m'\u001b[39;49m\u001b[38;5;124;43mName\u001b[39;49m\u001b[38;5;124;43m'\u001b[39;49m\u001b[43m:\u001b[49m\u001b[43m \u001b[49m\u001b[43mnames\u001b[49m\u001b[43m,\u001b[49m\n\u001b[0;32m      4\u001b[0m \u001b[43m        \u001b[49m\u001b[38;5;124;43m'\u001b[39;49m\u001b[38;5;124;43mClub\u001b[39;49m\u001b[38;5;124;43m'\u001b[39;49m\u001b[43m:\u001b[49m\u001b[43m \u001b[49m\u001b[43mclub\u001b[49m\u001b[43m,\u001b[49m\n\u001b[0;32m      5\u001b[0m \u001b[43m        \u001b[49m\u001b[38;5;124;43m'\u001b[39;49m\u001b[38;5;124;43mNationality\u001b[39;49m\u001b[38;5;124;43m'\u001b[39;49m\u001b[43m:\u001b[49m\u001b[43m \u001b[49m\u001b[43mnationality\u001b[49m\u001b[43m,\u001b[49m\n\u001b[0;32m      6\u001b[0m \u001b[43m        \u001b[49m\u001b[38;5;124;43m'\u001b[39;49m\u001b[38;5;124;43mPosition\u001b[39;49m\u001b[38;5;124;43m'\u001b[39;49m\u001b[43m:\u001b[49m\u001b[43m \u001b[49m\u001b[43mposition\u001b[49m\u001b[43m,\u001b[49m\n\u001b[0;32m      7\u001b[0m \u001b[43m        \u001b[49m\u001b[38;5;124;43m'\u001b[39;49m\u001b[38;5;124;43mAge\u001b[39;49m\u001b[38;5;124;43m'\u001b[39;49m\u001b[43m:\u001b[49m\u001b[43m \u001b[49m\u001b[43mage\u001b[49m\u001b[43m,\u001b[49m\n\u001b[0;32m      8\u001b[0m \u001b[43m        \u001b[49m\u001b[38;5;124;43m'\u001b[39;49m\u001b[38;5;124;43mMatches\u001b[39;49m\u001b[38;5;124;43m'\u001b[39;49m\u001b[43m:\u001b[49m\u001b[43m \u001b[49m\u001b[43mmatches\u001b[49m\u001b[43m,\u001b[49m\n\u001b[0;32m      9\u001b[0m \u001b[43m        \u001b[49m\u001b[38;5;124;43m'\u001b[39;49m\u001b[38;5;124;43mStarts\u001b[39;49m\u001b[38;5;124;43m'\u001b[39;49m\u001b[43m:\u001b[49m\u001b[43m \u001b[49m\u001b[43mstarts\u001b[49m\u001b[43m,\u001b[49m\n\u001b[0;32m     10\u001b[0m \u001b[43m        \u001b[49m\u001b[38;5;124;43m'\u001b[39;49m\u001b[38;5;124;43mMins\u001b[39;49m\u001b[38;5;124;43m'\u001b[39;49m\u001b[43m:\u001b[49m\u001b[43m \u001b[49m\u001b[43mmins_played\u001b[49m\u001b[43m,\u001b[49m\n\u001b[0;32m     11\u001b[0m \u001b[43m        \u001b[49m\u001b[38;5;124;43m'\u001b[39;49m\u001b[38;5;124;43mGoals\u001b[39;49m\u001b[38;5;124;43m'\u001b[39;49m\u001b[43m:\u001b[49m\u001b[43m \u001b[49m\u001b[43mgoals\u001b[49m\u001b[43m,\u001b[49m\n\u001b[0;32m     12\u001b[0m \u001b[43m        \u001b[49m\u001b[38;5;124;43m'\u001b[39;49m\u001b[38;5;124;43mAssists\u001b[39;49m\u001b[38;5;124;43m'\u001b[39;49m\u001b[43m:\u001b[49m\u001b[43m \u001b[49m\u001b[43massists\u001b[49m\u001b[43m,\u001b[49m\n\u001b[0;32m     13\u001b[0m \u001b[43m        \u001b[49m\u001b[38;5;124;43m'\u001b[39;49m\u001b[38;5;124;43mPasses_Attempted\u001b[39;49m\u001b[38;5;124;43m'\u001b[39;49m\u001b[43m:\u001b[49m\u001b[43m \u001b[49m\u001b[43mattempted\u001b[49m\u001b[43m,\u001b[49m\n\u001b[0;32m     14\u001b[0m \u001b[43m        \u001b[49m\u001b[38;5;124;43m'\u001b[39;49m\u001b[38;5;124;43mPerc_Passes_Completed\u001b[39;49m\u001b[38;5;124;43m'\u001b[39;49m\u001b[43m:\u001b[49m\u001b[43m \u001b[49m\u001b[43mpasses_comp\u001b[49m\u001b[43m,\u001b[49m\n\u001b[0;32m     15\u001b[0m \u001b[43m        \u001b[49m\u001b[38;5;124;43m'\u001b[39;49m\u001b[38;5;124;43mPenalty_Goals\u001b[39;49m\u001b[38;5;124;43m'\u001b[39;49m\u001b[43m:\u001b[49m\u001b[43m \u001b[49m\u001b[43mpenalty_goals\u001b[49m\u001b[43m,\u001b[49m\n\u001b[0;32m     16\u001b[0m \u001b[43m        \u001b[49m\u001b[38;5;124;43m'\u001b[39;49m\u001b[38;5;124;43mPenalty_Attempted\u001b[39;49m\u001b[38;5;124;43m'\u001b[39;49m\u001b[43m:\u001b[49m\u001b[43m \u001b[49m\u001b[43mpenalty_attempted\u001b[49m\u001b[43m,\u001b[49m\n\u001b[0;32m     17\u001b[0m \u001b[43m        \u001b[49m\u001b[38;5;124;43m'\u001b[39;49m\u001b[38;5;124;43mxG\u001b[39;49m\u001b[38;5;124;43m'\u001b[39;49m\u001b[43m:\u001b[49m\u001b[43m \u001b[49m\u001b[43mxG\u001b[49m\u001b[43m,\u001b[49m\n\u001b[0;32m     18\u001b[0m \u001b[43m        \u001b[49m\u001b[38;5;124;43m'\u001b[39;49m\u001b[38;5;124;43mxA\u001b[39;49m\u001b[38;5;124;43m'\u001b[39;49m\u001b[43m:\u001b[49m\u001b[43m \u001b[49m\u001b[43mxA\u001b[49m\u001b[43m,\u001b[49m\n\u001b[0;32m     19\u001b[0m \u001b[43m        \u001b[49m\u001b[38;5;124;43m'\u001b[39;49m\u001b[38;5;124;43mYellow_Cards\u001b[39;49m\u001b[38;5;124;43m'\u001b[39;49m\u001b[43m:\u001b[49m\u001b[43m \u001b[49m\u001b[43myellow_cards\u001b[49m\u001b[43m,\u001b[49m\n\u001b[0;32m     20\u001b[0m \u001b[43m        \u001b[49m\u001b[38;5;124;43m'\u001b[39;49m\u001b[38;5;124;43mRed_Cards\u001b[39;49m\u001b[38;5;124;43m'\u001b[39;49m\u001b[43m:\u001b[49m\u001b[43m \u001b[49m\u001b[43mred_cards\u001b[49m\u001b[43m,\u001b[49m\n\u001b[0;32m     21\u001b[0m \n\u001b[0;32m     22\u001b[0m \u001b[43m    \u001b[49m\u001b[43m}\u001b[49m\u001b[43m)\u001b[49m\n\u001b[0;32m     23\u001b[0m     df[\u001b[38;5;124m'\u001b[39m\u001b[38;5;124mAge\u001b[39m\u001b[38;5;124m'\u001b[39m] \u001b[38;5;241m=\u001b[39m df[\u001b[38;5;124m'\u001b[39m\u001b[38;5;124mAge\u001b[39m\u001b[38;5;124m'\u001b[39m]\u001b[38;5;241m.\u001b[39mastype(\u001b[38;5;28mint\u001b[39m)\n\u001b[0;32m     24\u001b[0m     df[\u001b[38;5;124m'\u001b[39m\u001b[38;5;124mMatches\u001b[39m\u001b[38;5;124m'\u001b[39m] \u001b[38;5;241m=\u001b[39m df[\u001b[38;5;124m'\u001b[39m\u001b[38;5;124mMatches\u001b[39m\u001b[38;5;124m'\u001b[39m]\u001b[38;5;241m.\u001b[39mastype(\u001b[38;5;28mint\u001b[39m)\n",
      "File \u001b[1;32m~\\AppData\\Local\\Programs\\Python\\Python311\\Lib\\site-packages\\pandas\\core\\frame.py:662\u001b[0m, in \u001b[0;36mDataFrame.__init__\u001b[1;34m(self, data, index, columns, dtype, copy)\u001b[0m\n\u001b[0;32m    656\u001b[0m     mgr \u001b[38;5;241m=\u001b[39m \u001b[38;5;28mself\u001b[39m\u001b[38;5;241m.\u001b[39m_init_mgr(\n\u001b[0;32m    657\u001b[0m         data, axes\u001b[38;5;241m=\u001b[39m{\u001b[38;5;124m\"\u001b[39m\u001b[38;5;124mindex\u001b[39m\u001b[38;5;124m\"\u001b[39m: index, \u001b[38;5;124m\"\u001b[39m\u001b[38;5;124mcolumns\u001b[39m\u001b[38;5;124m\"\u001b[39m: columns}, dtype\u001b[38;5;241m=\u001b[39mdtype, copy\u001b[38;5;241m=\u001b[39mcopy\n\u001b[0;32m    658\u001b[0m     )\n\u001b[0;32m    660\u001b[0m \u001b[38;5;28;01melif\u001b[39;00m \u001b[38;5;28misinstance\u001b[39m(data, \u001b[38;5;28mdict\u001b[39m):\n\u001b[0;32m    661\u001b[0m     \u001b[38;5;66;03m# GH#38939 de facto copy defaults to False only in non-dict cases\u001b[39;00m\n\u001b[1;32m--> 662\u001b[0m     mgr \u001b[38;5;241m=\u001b[39m \u001b[43mdict_to_mgr\u001b[49m\u001b[43m(\u001b[49m\u001b[43mdata\u001b[49m\u001b[43m,\u001b[49m\u001b[43m \u001b[49m\u001b[43mindex\u001b[49m\u001b[43m,\u001b[49m\u001b[43m \u001b[49m\u001b[43mcolumns\u001b[49m\u001b[43m,\u001b[49m\u001b[43m \u001b[49m\u001b[43mdtype\u001b[49m\u001b[38;5;241;43m=\u001b[39;49m\u001b[43mdtype\u001b[49m\u001b[43m,\u001b[49m\u001b[43m \u001b[49m\u001b[43mcopy\u001b[49m\u001b[38;5;241;43m=\u001b[39;49m\u001b[43mcopy\u001b[49m\u001b[43m,\u001b[49m\u001b[43m \u001b[49m\u001b[43mtyp\u001b[49m\u001b[38;5;241;43m=\u001b[39;49m\u001b[43mmanager\u001b[49m\u001b[43m)\u001b[49m\n\u001b[0;32m    663\u001b[0m \u001b[38;5;28;01melif\u001b[39;00m \u001b[38;5;28misinstance\u001b[39m(data, ma\u001b[38;5;241m.\u001b[39mMaskedArray):\n\u001b[0;32m    664\u001b[0m     \u001b[38;5;28;01mimport\u001b[39;00m \u001b[38;5;21;01mnumpy\u001b[39;00m\u001b[38;5;21;01m.\u001b[39;00m\u001b[38;5;21;01mma\u001b[39;00m\u001b[38;5;21;01m.\u001b[39;00m\u001b[38;5;21;01mmrecords\u001b[39;00m \u001b[38;5;28;01mas\u001b[39;00m \u001b[38;5;21;01mmrecords\u001b[39;00m\n",
      "File \u001b[1;32m~\\AppData\\Local\\Programs\\Python\\Python311\\Lib\\site-packages\\pandas\\core\\internals\\construction.py:493\u001b[0m, in \u001b[0;36mdict_to_mgr\u001b[1;34m(data, index, columns, dtype, typ, copy)\u001b[0m\n\u001b[0;32m    489\u001b[0m     \u001b[38;5;28;01melse\u001b[39;00m:\n\u001b[0;32m    490\u001b[0m         \u001b[38;5;66;03m# dtype check to exclude e.g. range objects, scalars\u001b[39;00m\n\u001b[0;32m    491\u001b[0m         arrays \u001b[38;5;241m=\u001b[39m [x\u001b[38;5;241m.\u001b[39mcopy() \u001b[38;5;28;01mif\u001b[39;00m \u001b[38;5;28mhasattr\u001b[39m(x, \u001b[38;5;124m\"\u001b[39m\u001b[38;5;124mdtype\u001b[39m\u001b[38;5;124m\"\u001b[39m) \u001b[38;5;28;01melse\u001b[39;00m x \u001b[38;5;28;01mfor\u001b[39;00m x \u001b[38;5;129;01min\u001b[39;00m arrays]\n\u001b[1;32m--> 493\u001b[0m \u001b[38;5;28;01mreturn\u001b[39;00m \u001b[43marrays_to_mgr\u001b[49m\u001b[43m(\u001b[49m\u001b[43marrays\u001b[49m\u001b[43m,\u001b[49m\u001b[43m \u001b[49m\u001b[43mcolumns\u001b[49m\u001b[43m,\u001b[49m\u001b[43m \u001b[49m\u001b[43mindex\u001b[49m\u001b[43m,\u001b[49m\u001b[43m \u001b[49m\u001b[43mdtype\u001b[49m\u001b[38;5;241;43m=\u001b[39;49m\u001b[43mdtype\u001b[49m\u001b[43m,\u001b[49m\u001b[43m \u001b[49m\u001b[43mtyp\u001b[49m\u001b[38;5;241;43m=\u001b[39;49m\u001b[43mtyp\u001b[49m\u001b[43m,\u001b[49m\u001b[43m \u001b[49m\u001b[43mconsolidate\u001b[49m\u001b[38;5;241;43m=\u001b[39;49m\u001b[43mcopy\u001b[49m\u001b[43m)\u001b[49m\n",
      "File \u001b[1;32m~\\AppData\\Local\\Programs\\Python\\Python311\\Lib\\site-packages\\pandas\\core\\internals\\construction.py:118\u001b[0m, in \u001b[0;36marrays_to_mgr\u001b[1;34m(arrays, columns, index, dtype, verify_integrity, typ, consolidate)\u001b[0m\n\u001b[0;32m    115\u001b[0m \u001b[38;5;28;01mif\u001b[39;00m verify_integrity:\n\u001b[0;32m    116\u001b[0m     \u001b[38;5;66;03m# figure out the index, if necessary\u001b[39;00m\n\u001b[0;32m    117\u001b[0m     \u001b[38;5;28;01mif\u001b[39;00m index \u001b[38;5;129;01mis\u001b[39;00m \u001b[38;5;28;01mNone\u001b[39;00m:\n\u001b[1;32m--> 118\u001b[0m         index \u001b[38;5;241m=\u001b[39m \u001b[43m_extract_index\u001b[49m\u001b[43m(\u001b[49m\u001b[43marrays\u001b[49m\u001b[43m)\u001b[49m\n\u001b[0;32m    119\u001b[0m     \u001b[38;5;28;01melse\u001b[39;00m:\n\u001b[0;32m    120\u001b[0m         index \u001b[38;5;241m=\u001b[39m ensure_index(index)\n",
      "File \u001b[1;32m~\\AppData\\Local\\Programs\\Python\\Python311\\Lib\\site-packages\\pandas\\core\\internals\\construction.py:666\u001b[0m, in \u001b[0;36m_extract_index\u001b[1;34m(data)\u001b[0m\n\u001b[0;32m    664\u001b[0m lengths \u001b[38;5;241m=\u001b[39m \u001b[38;5;28mlist\u001b[39m(\u001b[38;5;28mset\u001b[39m(raw_lengths))\n\u001b[0;32m    665\u001b[0m \u001b[38;5;28;01mif\u001b[39;00m \u001b[38;5;28mlen\u001b[39m(lengths) \u001b[38;5;241m>\u001b[39m \u001b[38;5;241m1\u001b[39m:\n\u001b[1;32m--> 666\u001b[0m     \u001b[38;5;28;01mraise\u001b[39;00m \u001b[38;5;167;01mValueError\u001b[39;00m(\u001b[38;5;124m\"\u001b[39m\u001b[38;5;124mAll arrays must be of the same length\u001b[39m\u001b[38;5;124m\"\u001b[39m)\n\u001b[0;32m    668\u001b[0m \u001b[38;5;28;01mif\u001b[39;00m have_dicts:\n\u001b[0;32m    669\u001b[0m     \u001b[38;5;28;01mraise\u001b[39;00m \u001b[38;5;167;01mValueError\u001b[39;00m(\n\u001b[0;32m    670\u001b[0m         \u001b[38;5;124m\"\u001b[39m\u001b[38;5;124mMixing dicts with non-Series may lead to ambiguous ordering.\u001b[39m\u001b[38;5;124m\"\u001b[39m\n\u001b[0;32m    671\u001b[0m     )\n",
      "\u001b[1;31mValueError\u001b[0m: All arrays must be of the same length"
     ]
    }
   ],
   "source": [
    "df = convertDataFrame()"
   ]
  },
  {
   "cell_type": "code",
   "execution_count": 20,
   "id": "3389ba7a-83c3-4d9a-85ed-cd386c11ff90",
   "metadata": {},
   "outputs": [
    {
     "ename": "NameError",
     "evalue": "name 'df' is not defined",
     "output_type": "error",
     "traceback": [
      "\u001b[1;31m---------------------------------------------------------------------------\u001b[0m",
      "\u001b[1;31mNameError\u001b[0m                                 Traceback (most recent call last)",
      "Cell \u001b[1;32mIn [20], line 1\u001b[0m\n\u001b[1;32m----> 1\u001b[0m \u001b[43mdf\u001b[49m\u001b[38;5;241m.\u001b[39mhead(\u001b[38;5;241m5\u001b[39m)\n",
      "\u001b[1;31mNameError\u001b[0m: name 'df' is not defined"
     ]
    }
   ],
   "source": [
    "df.head(5)"
   ]
  },
  {
   "cell_type": "code",
   "execution_count": 21,
   "id": "d91b59d3-56de-4375-ac98-5cbb6a7c874b",
   "metadata": {},
   "outputs": [
    {
     "ename": "NameError",
     "evalue": "name 'df' is not defined",
     "output_type": "error",
     "traceback": [
      "\u001b[1;31m---------------------------------------------------------------------------\u001b[0m",
      "\u001b[1;31mNameError\u001b[0m                                 Traceback (most recent call last)",
      "Cell \u001b[1;32mIn [21], line 1\u001b[0m\n\u001b[1;32m----> 1\u001b[0m \u001b[43mdf\u001b[49m\u001b[38;5;241m.\u001b[39misna()\u001b[38;5;241m.\u001b[39msum()\n",
      "\u001b[1;31mNameError\u001b[0m: name 'df' is not defined"
     ]
    }
   ],
   "source": [
    "df.isna().sum()"
   ]
  },
  {
   "cell_type": "code",
   "execution_count": 22,
   "id": "b64d29a4-c97e-4d3a-aeb9-7ce1f8d9baa0",
   "metadata": {},
   "outputs": [
    {
     "ename": "NameError",
     "evalue": "name 'df' is not defined",
     "output_type": "error",
     "traceback": [
      "\u001b[1;31m---------------------------------------------------------------------------\u001b[0m",
      "\u001b[1;31mNameError\u001b[0m                                 Traceback (most recent call last)",
      "Cell \u001b[1;32mIn [22], line 1\u001b[0m\n\u001b[1;32m----> 1\u001b[0m \u001b[43mdf\u001b[49m\u001b[38;5;241m.\u001b[39mto_csv(\u001b[38;5;124m'\u001b[39m\u001b[38;5;124mbundesliga_top7_offensive.csv\u001b[39m\u001b[38;5;124m'\u001b[39m, index\u001b[38;5;241m=\u001b[39m\u001b[38;5;28;01mFalse\u001b[39;00m)\n",
      "\u001b[1;31mNameError\u001b[0m: name 'df' is not defined"
     ]
    }
   ],
   "source": [
    "df.to_csv('bundesliga_top7_offensive.csv', index=False)"
   ]
  }
 ],
 "metadata": {
  "kernelspec": {
   "display_name": "Python 3 (ipykernel)",
   "language": "python",
   "name": "python3"
  },
  "language_info": {
   "codemirror_mode": {
    "name": "ipython",
    "version": 3
   },
   "file_extension": ".py",
   "mimetype": "text/x-python",
   "name": "python",
   "nbconvert_exporter": "python",
   "pygments_lexer": "ipython3",
   "version": "3.11.0"
  }
 },
 "nbformat": 4,
 "nbformat_minor": 5
}
