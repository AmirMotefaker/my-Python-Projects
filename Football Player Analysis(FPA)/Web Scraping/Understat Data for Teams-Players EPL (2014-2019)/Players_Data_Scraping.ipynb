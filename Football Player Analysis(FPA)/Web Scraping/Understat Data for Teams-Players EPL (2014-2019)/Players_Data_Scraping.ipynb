{
 "cells": [
  {
   "cell_type": "markdown",
   "id": "f6b4a745",
   "metadata": {},
   "source": [
    "Players Data Scraping"
   ]
  },
  {
   "cell_type": "code",
   "execution_count": 1,
   "id": "45a223ba",
   "metadata": {},
   "outputs": [],
   "source": [
    "import requests\n",
    "import json\n",
    "import pandas as pd\n",
    "import os"
   ]
  },
  {
   "cell_type": "code",
   "execution_count": 2,
   "id": "cd7daeb6",
   "metadata": {},
   "outputs": [],
   "source": [
    "season_names = ['2014', '2015', '2016', '2017', '2018', '2019']\n",
    "gws = ['3', '5', '10']\n",
    "leagues = ['EPL', 'La_liga', 'Bundesliga', 'Serie_A', 'Ligue_1']"
   ]
  },
  {
   "cell_type": "code",
   "execution_count": 3,
   "id": "1330bdbc",
   "metadata": {},
   "outputs": [],
   "source": [
    "def scrape_understat(payload):\n",
    "    #Build request using url, headers (mimicking what Firefox does normally)\n",
    "    #Works best with verify=True as you won't get the ssl errors. Payload is \n",
    "    #taylored for each request\n",
    "    url = 'https://understat.com/main/getPlayersStats/'\n",
    "    headers = {'content-type':'application/json; charset=utf-8',\n",
    "    'Host': 'understat.com',\n",
    "    'User-Agent': 'Mozilla/5.0 (X11; Ubuntu; Linux x86_64; rv:73.0) Gecko/20100101 Firefox/73.0',\n",
    "    'Accept': 'application/json, text/javascript, */*; q=0.01',\n",
    "    'Accept-Encoding': 'gzip, deflate, br',\n",
    "    'Content-Type': 'application/x-www-form-urlencoded; charset=UTF-8',\n",
    "    'X-Requested-With': 'XMLHttpRequest',\n",
    "    'Content-Length': '39',\n",
    "    'Origin': 'https: // understat.com',\n",
    "    'Connection': 'keep - alive',\n",
    "    'Referer': 'https: // understat.com / league / EPL'\n",
    "    }\n",
    "    response = requests.post(url, data=payload, headers = headers, verify=True)\n",
    "    response_json = response.json()\n",
    "    inner_wrapper = response_json['response']\n",
    "    json_player_data = inner_wrapper['players']\n",
    "    return json_player_data"
   ]
  }
 ],
 "metadata": {
  "kernelspec": {
   "display_name": "Python 3 (ipykernel)",
   "language": "python",
   "name": "python3"
  },
  "language_info": {
   "codemirror_mode": {
    "name": "ipython",
    "version": 3
   },
   "file_extension": ".py",
   "mimetype": "text/x-python",
   "name": "python",
   "nbconvert_exporter": "python",
   "pygments_lexer": "ipython3",
   "version": "3.9.12"
  }
 },
 "nbformat": 4,
 "nbformat_minor": 5
}
