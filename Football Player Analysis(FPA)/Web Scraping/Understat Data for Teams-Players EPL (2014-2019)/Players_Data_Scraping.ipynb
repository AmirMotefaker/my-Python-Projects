{
 "cells": [
  {
   "cell_type": "markdown",
   "id": "7349c639",
   "metadata": {},
   "source": [
    "Players Data Scraping"
   ]
  },
  {
   "cell_type": "code",
   "execution_count": 1,
   "id": "fe0b601c",
   "metadata": {},
   "outputs": [],
   "source": [
    "import requests\n",
    "import json\n",
    "import pandas as pd\n",
    "import os"
   ]
  },
  {
   "cell_type": "code",
   "execution_count": 2,
   "id": "e9ee6993",
   "metadata": {},
   "outputs": [],
   "source": [
    "season_names = ['2014', '2015', '2016', '2017', '2018', '2019']\n",
    "gws = ['3', '5', '10']\n",
    "leagues = ['EPL', 'La_liga', 'Bundesliga', 'Serie_A', 'Ligue_1']"
   ]
  },
  {
   "cell_type": "code",
   "execution_count": 3,
   "id": "5b72fa4c",
   "metadata": {},
   "outputs": [],
   "source": [
    "def scrape_understat(payload):\n",
    "    #Build request using url, headers (mimicking what Firefox does normally)\n",
    "    #Works best with verify=True as you won't get the ssl errors. Payload is \n",
    "    #taylored for each request\n",
    "    url = 'https://understat.com/main/getPlayersStats/'\n",
    "    headers = {'content-type':'application/json; charset=utf-8',\n",
    "    'Host': 'understat.com',\n",
    "    'User-Agent': 'Mozilla/5.0 (X11; Ubuntu; Linux x86_64; rv:73.0) Gecko/20100101 Firefox/73.0',\n",
    "    'Accept': 'application/json, text/javascript, */*; q=0.01',\n",
    "    'Accept-Encoding': 'gzip, deflate, br',\n",
    "    'Content-Type': 'application/x-www-form-urlencoded; charset=UTF-8',\n",
    "    'X-Requested-With': 'XMLHttpRequest',\n",
    "    'Content-Length': '39',\n",
    "    'Origin': 'https: // understat.com',\n",
    "    'Connection': 'keep - alive',\n",
    "    'Referer': 'https: // understat.com / league / EPL'\n",
    "    }\n",
    "    response = requests.post(url, data=payload, headers = headers, verify=True)\n",
    "    response_json = response.json()\n",
    "    inner_wrapper = response_json['response']\n",
    "    json_player_data = inner_wrapper['players']\n",
    "    return json_player_data"
   ]
  },
  {
   "cell_type": "code",
   "execution_count": 4,
   "id": "7682ce0c",
   "metadata": {},
   "outputs": [],
   "source": [
    "def clean_df(player_df, weeks):\n",
    "    # Get rid of the columns that we don't care about\n",
    "    #player_df.drop(['yellow_cards','red_cards', 'xGChain','xGBuildup','games','time'], axis=1, inplace=True)\n",
    "    player_df  = player_df.rename(columns={'goals':'goals_'+weeks,'xG':'xG_'+weeks,'assists':'assists_'+weeks, 'xA':'xA_'+weeks, 'shots':'shots_'+weeks, 'key_passes':\n",
    "        'key_passes_'+weeks,'npg':'npg_'+weeks,'npxG':'npxG_'+weeks})\n",
    "    \n",
    "    return(player_df)"
   ]
  }
 ],
 "metadata": {
  "kernelspec": {
   "display_name": "Python 3 (ipykernel)",
   "language": "python",
   "name": "python3"
  },
  "language_info": {
   "codemirror_mode": {
    "name": "ipython",
    "version": 3
   },
   "file_extension": ".py",
   "mimetype": "text/x-python",
   "name": "python",
   "nbconvert_exporter": "python",
   "pygments_lexer": "ipython3",
   "version": "3.9.12"
  }
 },
 "nbformat": 4,
 "nbformat_minor": 5
}
