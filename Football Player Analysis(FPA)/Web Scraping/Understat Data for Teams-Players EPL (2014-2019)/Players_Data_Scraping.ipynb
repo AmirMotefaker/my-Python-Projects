{
 "cells": [
  {
   "cell_type": "markdown",
   "id": "4f628ca9",
   "metadata": {},
   "source": [
    "Players Data Scraping"
   ]
  },
  {
   "cell_type": "code",
   "execution_count": 1,
   "id": "ad11be1d",
   "metadata": {},
   "outputs": [],
   "source": [
    "import requests\n",
    "import json\n",
    "import pandas as pd\n",
    "import os"
   ]
  },
  {
   "cell_type": "code",
   "execution_count": 2,
   "id": "7ea736b3",
   "metadata": {},
   "outputs": [],
   "source": [
    "season_names = ['2014', '2015', '2016', '2017', '2018', '2019']\n",
    "gws = ['3', '5', '10']\n",
    "leagues = ['EPL', 'La_liga', 'Bundesliga', 'Serie_A', 'Ligue_1']"
   ]
  },
  {
   "cell_type": "code",
   "execution_count": 3,
   "id": "a54b1eff",
   "metadata": {},
   "outputs": [],
   "source": [
    "def scrape_understat(payload):\n",
    "    #Build request using url, headers (mimicking what Firefox does normally)\n",
    "    #Works best with verify=True as you won't get the ssl errors. Payload is \n",
    "    #taylored for each request\n",
    "    url = 'https://understat.com/main/getPlayersStats/'\n",
    "    headers = {'content-type':'application/json; charset=utf-8',\n",
    "    'Host': 'understat.com',\n",
    "    'User-Agent': 'Mozilla/5.0 (X11; Ubuntu; Linux x86_64; rv:73.0) Gecko/20100101 Firefox/73.0',\n",
    "    'Accept': 'application/json, text/javascript, */*; q=0.01',\n",
    "    'Accept-Encoding': 'gzip, deflate, br',\n",
    "    'Content-Type': 'application/x-www-form-urlencoded; charset=UTF-8',\n",
    "    'X-Requested-With': 'XMLHttpRequest',\n",
    "    'Content-Length': '39',\n",
    "    'Origin': 'https: // understat.com',\n",
    "    'Connection': 'keep - alive',\n",
    "    'Referer': 'https: // understat.com / league / EPL'\n",
    "    }\n",
    "    response = requests.post(url, data=payload, headers = headers, verify=True)\n",
    "    response_json = response.json()\n",
    "    inner_wrapper = response_json['response']\n",
    "    json_player_data = inner_wrapper['players']\n",
    "    return json_player_data"
   ]
  },
  {
   "cell_type": "code",
   "execution_count": 4,
   "id": "f63f5933",
   "metadata": {},
   "outputs": [],
   "source": [
    "def clean_df(player_df, weeks):\n",
    "    # Get rid of the columns that we don't care about\n",
    "    #player_df.drop(['yellow_cards','red_cards', 'xGChain','xGBuildup','games','time'], axis=1, inplace=True)\n",
    "    player_df  = player_df.rename(columns={'goals':'goals_'+weeks,'xG':'xG_'+weeks,'assists':'assists_'+weeks, 'xA':'xA_'+weeks, 'shots':'shots_'+weeks, 'key_passes':\n",
    "        'key_passes_'+weeks,'npg':'npg_'+weeks,'npxG':'npxG_'+weeks})\n",
    "    \n",
    "    return(player_df)"
   ]
  },
  {
   "cell_type": "code",
   "execution_count": 5,
   "id": "0c72195d",
   "metadata": {},
   "outputs": [],
   "source": [
    "def gw_data(season , league,  no_of_gw):\n",
    "#     Create Pandas dataframes from each html table\n",
    "    print('Getting data for last {} matches'.format(no_of_gw))\n",
    "    json_player_data = scrape_understat({'league':'EPL', 'season':season, 'n_last_matches': no_of_gw})\n",
    "    gw_table = pd.DataFrame(json_player_data)\n",
    "    gw_df = clean_df(gw_table,'3wks')\n",
    "    #Replace Position indentifiers with something more useful\n",
    "    gw_df['position'] = gw_df['position'].str.slice(0,1)\n",
    "    position_map = {'D':'DEF', 'F':'FWD', 'M':'MID', 'G':'GK', 'S':'FWD'}\n",
    "    gw_df = gw_df.replace({'position': position_map})\n",
    "    gw_df.to_csv(r'E:\\AMotefaker\\ABC\\FPA\\Web Scraping\\Understat Data for Teams-Players (2014- present)\\Data\\Player_Data\\gw_data\\last_{}_gw_data.csv'.format(no_of_gw), encoding='utf-8', index=False)\n",
    "    print('last {} matches csv data written'.format(no_of_gw))\n",
    "    return gw_df"
   ]
  },
  {
   "cell_type": "code",
   "execution_count": 8,
   "id": "060b0b61",
   "metadata": {},
   "outputs": [
    {
     "name": "stdout",
     "output_type": "stream",
     "text": [
      "Getting data for last 3 matches\n",
      "last 3 matches csv data written\n",
      "Getting data for last 5 matches\n",
      "last 5 matches csv data written\n",
      "Getting data for last 10 matches\n",
      "last 10 matches csv data written\n"
     ]
    }
   ],
   "source": [
    "last_3_gw_data_EPL = gw_data(season_names[-1], leagues[0], gws[0])\n",
    "last_5_gw_data_EPL = gw_data(season_names[-1], leagues[0], gws[1])\n",
    "last_10_gw_data_EPL = gw_data(season_names[-1], leagues[0], gws[2])"
   ]
  }
 ],
 "metadata": {
  "kernelspec": {
   "display_name": "Python 3 (ipykernel)",
   "language": "python",
   "name": "python3"
  },
  "language_info": {
   "codemirror_mode": {
    "name": "ipython",
    "version": 3
   },
   "file_extension": ".py",
   "mimetype": "text/x-python",
   "name": "python",
   "nbconvert_exporter": "python",
   "pygments_lexer": "ipython3",
   "version": "3.9.12"
  }
 },
 "nbformat": 4,
 "nbformat_minor": 5
}
