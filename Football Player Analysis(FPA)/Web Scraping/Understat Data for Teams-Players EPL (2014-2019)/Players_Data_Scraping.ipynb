{
 "cells": [
  {
   "cell_type": "markdown",
   "id": "5003a45c",
   "metadata": {},
   "source": [
    "Players Data Scraping"
   ]
  },
  {
   "cell_type": "code",
   "execution_count": 1,
   "id": "444c130d",
   "metadata": {},
   "outputs": [],
   "source": [
    "import requests\n",
    "import json\n",
    "import pandas as pd\n",
    "import os"
   ]
  },
  {
   "cell_type": "code",
   "execution_count": 2,
   "id": "9bcbd017",
   "metadata": {},
   "outputs": [],
   "source": [
    "season_names = ['2014', '2015', '2016', '2017', '2018', '2019']\n",
    "gws = ['3', '5', '10']\n",
    "leagues = ['EPL', 'La_liga', 'Bundesliga', 'Serie_A', 'Ligue_1']"
   ]
  }
 ],
 "metadata": {
  "kernelspec": {
   "display_name": "Python 3 (ipykernel)",
   "language": "python",
   "name": "python3"
  },
  "language_info": {
   "codemirror_mode": {
    "name": "ipython",
    "version": 3
   },
   "file_extension": ".py",
   "mimetype": "text/x-python",
   "name": "python",
   "nbconvert_exporter": "python",
   "pygments_lexer": "ipython3",
   "version": "3.9.12"
  }
 },
 "nbformat": 4,
 "nbformat_minor": 5
}
