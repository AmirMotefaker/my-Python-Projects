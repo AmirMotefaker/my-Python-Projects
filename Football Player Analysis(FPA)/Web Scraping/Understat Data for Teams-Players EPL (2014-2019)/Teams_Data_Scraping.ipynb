{
 "cells": [
  {
   "cell_type": "markdown",
   "id": "ff190404",
   "metadata": {},
   "source": [
    "Teams Data Scraping"
   ]
  },
  {
   "cell_type": "code",
   "execution_count": 1,
   "id": "17909142",
   "metadata": {},
   "outputs": [],
   "source": [
    "import requests\n",
    "from bs4 import BeautifulSoup \n",
    "import json\n",
    "import pandas as pd\n",
    "import os"
   ]
  },
  {
   "cell_type": "code",
   "execution_count": 8,
   "id": "f4998b86",
   "metadata": {},
   "outputs": [],
   "source": [
    "base_url = 'https://understat.com/league/EPL/'\n",
    "season_names = ['2014', '2015', '2016', '2017', '2018','2019']\n",
    "\n",
    "\n",
    "def season_scraper(season):\n",
    "    url = base_url + season\n",
    "    res = requests.get(url)\n",
    "    soup = BeautifulSoup(res.content, 'lxml')\n",
    "    \n",
    "    # data is under \"scripts\" tag. So, finding all the script tags\n",
    "    script = soup.find_all('script')\n",
    "    \n",
    "    string_with_json_obj = ''\n",
    "\n",
    "    for el in script:\n",
    "        if 'teamsData' in el.text:\n",
    "            string_with_json_obj = el.text.strip()\n",
    "            \n",
    "    #keeping only the part of string we need\n",
    "    ind_start = string_with_json_obj.index(\"('\") + 2\n",
    "    ind_end = string_with_json_obj.index(\"')\") \n",
    "    json_data = string_with_json_obj[ind_start: ind_end]\n",
    "\n",
    "    json_data = json_data.encode('utf8').decode('unicode_escape')\n",
    "    data = json.loads(json_data)#formatted json data\n",
    "    \n",
    "    #making a dictionary composed opf team ID and team titles\n",
    "    teams ={}\n",
    "    for id in data.keys():\n",
    "        teams[id] = data[id]['title']\n",
    "        \n",
    "    #getting column names \n",
    "    columns = []\n",
    "    values = []\n",
    "    for id in data.keys():\n",
    "        columns = list(data[id]['history'][0].keys())\n",
    "        break\n",
    "    all_team_dicts = {}\n",
    "    \n",
    "    #getting all data for each team in the season and storing them in a dictionart with 'team' as key\n",
    "    for id, team in teams.items():\n",
    "        teams_data = []\n",
    "        for i in data[id]['history']:\n",
    "            teams_data.append(list(i.values()))\n",
    "\n",
    "        df = pd.DataFrame(teams_data, columns = columns)\n",
    "        all_team_dicts[team] = df\n",
    "    #correcting the format of PPDA and OPDA(PPDA_allowed) to the ratio of PPDA and PPDA_allowed\n",
    "    for team, df in all_team_dicts.items():\n",
    "        all_team_dicts[team]['ppda_coef'] = all_team_dicts[team]['ppda'].apply(lambda x : x['att']/x['def'] if x['def'] != 0 else 0)\n",
    "        all_team_dicts[team]['oppda_coef'] = all_team_dicts[team]['ppda_allowed'].apply(lambda x : x['att']/x['def'] if x['def'] != 0 else 0)"
   ]
  }
 ],
 "metadata": {
  "kernelspec": {
   "display_name": "Python 3 (ipykernel)",
   "language": "python",
   "name": "python3"
  },
  "language_info": {
   "codemirror_mode": {
    "name": "ipython",
    "version": 3
   },
   "file_extension": ".py",
   "mimetype": "text/x-python",
   "name": "python",
   "nbconvert_exporter": "python",
   "pygments_lexer": "ipython3",
   "version": "3.9.12"
  }
 },
 "nbformat": 4,
 "nbformat_minor": 5
}
