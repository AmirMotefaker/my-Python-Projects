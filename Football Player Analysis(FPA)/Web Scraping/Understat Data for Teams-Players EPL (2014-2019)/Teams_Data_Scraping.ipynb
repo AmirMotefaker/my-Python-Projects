{
 "cells": [
  {
   "cell_type": "markdown",
   "id": "79796d9d",
   "metadata": {},
   "source": [
    "Teams Data Scraping"
   ]
  },
  {
   "cell_type": "code",
   "execution_count": 1,
   "id": "0b175e9f",
   "metadata": {},
   "outputs": [],
   "source": [
    "import requests\n",
    "from bs4 import BeautifulSoup \n",
    "import json\n",
    "import pandas as pd\n",
    "import os"
   ]
  },
  {
   "cell_type": "code",
   "execution_count": 3,
   "id": "6e05ac2d",
   "metadata": {},
   "outputs": [],
   "source": [
    "base_url = 'https://understat.com/league/EPL/'\n",
    "season_names = ['2014', '2015', '2016', '2017', '2018','2019']\n",
    "\n",
    "def season_scraper(season):\n",
    "    url = base_url + season\n",
    "    res = requests.get(url)\n",
    "    soup = BeautifulSoup(res.content, 'lxml')\n",
    "    \n",
    "    # data is under \"scripts\" tag. So, finding all the script tags\n",
    "    script = soup.find_all('script')\n",
    "    \n",
    "    string_with_json_obj = ''\n",
    "\n",
    "    for el in script:\n",
    "        if 'teamsData' in el.text:\n",
    "            string_with_json_obj = el.text.strip()"
   ]
  }
 ],
 "metadata": {
  "kernelspec": {
   "display_name": "Python 3 (ipykernel)",
   "language": "python",
   "name": "python3"
  },
  "language_info": {
   "codemirror_mode": {
    "name": "ipython",
    "version": 3
   },
   "file_extension": ".py",
   "mimetype": "text/x-python",
   "name": "python",
   "nbconvert_exporter": "python",
   "pygments_lexer": "ipython3",
   "version": "3.9.12"
  }
 },
 "nbformat": 4,
 "nbformat_minor": 5
}
