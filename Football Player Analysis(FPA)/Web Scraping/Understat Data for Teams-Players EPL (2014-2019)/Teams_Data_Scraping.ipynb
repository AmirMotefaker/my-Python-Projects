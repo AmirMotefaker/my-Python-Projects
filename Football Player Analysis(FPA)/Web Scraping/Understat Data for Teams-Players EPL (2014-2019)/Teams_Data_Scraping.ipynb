{
 "cells": [
  {
   "cell_type": "markdown",
   "id": "0ae64b8f",
   "metadata": {},
   "source": [
    "Teams Data Scraping"
   ]
  },
  {
   "cell_type": "code",
   "execution_count": 1,
   "id": "a8f667dd",
   "metadata": {},
   "outputs": [],
   "source": [
    "import requests\n",
    "from bs4 import BeautifulSoup \n",
    "import json\n",
    "import pandas as pd\n",
    "import os"
   ]
  },
  {
   "cell_type": "code",
   "execution_count": 2,
   "id": "42fcab4d",
   "metadata": {},
   "outputs": [],
   "source": [
    "base_url = 'https://understat.com/league/EPL/'\n",
    "season_names = ['2014', '2015', '2016', '2017', '2018','2019']"
   ]
  }
 ],
 "metadata": {
  "kernelspec": {
   "display_name": "Python 3 (ipykernel)",
   "language": "python",
   "name": "python3"
  },
  "language_info": {
   "codemirror_mode": {
    "name": "ipython",
    "version": 3
   },
   "file_extension": ".py",
   "mimetype": "text/x-python",
   "name": "python",
   "nbconvert_exporter": "python",
   "pygments_lexer": "ipython3",
   "version": "3.9.12"
  }
 },
 "nbformat": 4,
 "nbformat_minor": 5
}
